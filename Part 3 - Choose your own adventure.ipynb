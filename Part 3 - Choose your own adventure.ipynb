{
 "cells": [
  {
   "cell_type": "markdown",
   "id": "3e9b562e-528c-436e-8f45-f65c6adc72c9",
   "metadata": {},
   "source": [
    "Pick one dataset from either the City_of_Ann_Arbor/Water_Quality folder or the\n",
    "US_Geological_Survey folder. Produce 2 plots that help you explore your chosen dataset. These\n",
    "plots should be distinct (i.e., they should relate to different variables or relationships in the data).\n",
    "For each plot, explain why you were interested to produce that visualization, why you presented\n",
    "the data in the chosen format, and describe what you found. Make sure to clearly distinguish your\n",
    "explorations and visualizations into two separate parts in the Jupyter notebook.\n"
   ]
  },
  {
   "cell_type": "code",
   "execution_count": 1,
   "id": "d5f520bc-8337-4693-b9e0-fd8db969acc5",
   "metadata": {},
   "outputs": [],
   "source": [
    "# Load libraries\n",
    "import pandas as pd\n",
    "import matplotlib.pyplot as plt"
   ]
  },
  {
   "cell_type": "markdown",
   "id": "8a1e1969-abe5-4984-9053-8cf95096220f",
   "metadata": {},
   "source": [
    "## Exploration 1: Malletts Creek Gage Height Over Time\n"
   ]
  },
  {
   "cell_type": "markdown",
   "id": "ef21ba93-04c4-4f85-b2ba-f5a8d0b191dc",
   "metadata": {},
   "source": [
    "What is gage height? "
   ]
  },
  {
   "cell_type": "markdown",
   "id": "75db893b-53e9-4860-8843-4c32185ef036",
   "metadata": {},
   "source": [
    "According to USGS, \"Gage height is the distance (or height) of the stream (or lake) water surface above the gage datum (reference point)...The gage datum is a uniquely selected reference point for each gage site. Most of the time, it is picked to be below the lowest anticipated depth of a stream or lake because streambeds change over time.\""
   ]
  },
  {
   "cell_type": "markdown",
   "id": "1d683d5e-7afb-42a9-85f9-f945da583636",
   "metadata": {},
   "source": [
    "For more information visit https://waterdata.usgs.gov/blog/gage_height/"
   ]
  },
  {
   "cell_type": "code",
   "execution_count": 2,
   "id": "9a240b3b-c84d-4a6c-8c9b-a2e7bf5b0a66",
   "metadata": {},
   "outputs": [
    {
     "data": {
      "text/html": [
       "<div>\n",
       "<style scoped>\n",
       "    .dataframe tbody tr th:only-of-type {\n",
       "        vertical-align: middle;\n",
       "    }\n",
       "\n",
       "    .dataframe tbody tr th {\n",
       "        vertical-align: top;\n",
       "    }\n",
       "\n",
       "    .dataframe thead th {\n",
       "        text-align: right;\n",
       "    }\n",
       "</style>\n",
       "<table border=\"1\" class=\"dataframe\">\n",
       "  <thead>\n",
       "    <tr style=\"text-align: right;\">\n",
       "      <th></th>\n",
       "      <th>Agency Code</th>\n",
       "      <th>Site Number</th>\n",
       "      <th>Date Time</th>\n",
       "      <th>Time Coed</th>\n",
       "      <th>Gage Height</th>\n",
       "      <th>Qualification Code</th>\n",
       "    </tr>\n",
       "  </thead>\n",
       "  <tbody>\n",
       "    <tr>\n",
       "      <th>0</th>\n",
       "      <td>USGS</td>\n",
       "      <td>4174518</td>\n",
       "      <td>1/1/2020 0:00</td>\n",
       "      <td>EST</td>\n",
       "      <td>3.80</td>\n",
       "      <td>A</td>\n",
       "    </tr>\n",
       "    <tr>\n",
       "      <th>1</th>\n",
       "      <td>USGS</td>\n",
       "      <td>4174518</td>\n",
       "      <td>1/1/2020 0:15</td>\n",
       "      <td>EST</td>\n",
       "      <td>3.79</td>\n",
       "      <td>A</td>\n",
       "    </tr>\n",
       "    <tr>\n",
       "      <th>2</th>\n",
       "      <td>USGS</td>\n",
       "      <td>4174518</td>\n",
       "      <td>1/1/2020 0:30</td>\n",
       "      <td>EST</td>\n",
       "      <td>3.79</td>\n",
       "      <td>A</td>\n",
       "    </tr>\n",
       "    <tr>\n",
       "      <th>3</th>\n",
       "      <td>USGS</td>\n",
       "      <td>4174518</td>\n",
       "      <td>1/1/2020 0:45</td>\n",
       "      <td>EST</td>\n",
       "      <td>3.78</td>\n",
       "      <td>A</td>\n",
       "    </tr>\n",
       "    <tr>\n",
       "      <th>4</th>\n",
       "      <td>USGS</td>\n",
       "      <td>4174518</td>\n",
       "      <td>1/1/2020 1:00</td>\n",
       "      <td>EST</td>\n",
       "      <td>3.78</td>\n",
       "      <td>A</td>\n",
       "    </tr>\n",
       "    <tr>\n",
       "      <th>...</th>\n",
       "      <td>...</td>\n",
       "      <td>...</td>\n",
       "      <td>...</td>\n",
       "      <td>...</td>\n",
       "      <td>...</td>\n",
       "      <td>...</td>\n",
       "    </tr>\n",
       "    <tr>\n",
       "      <th>128079</th>\n",
       "      <td>USGS</td>\n",
       "      <td>4174518</td>\n",
       "      <td>9/5/2023 15:15</td>\n",
       "      <td>EST</td>\n",
       "      <td>3.15</td>\n",
       "      <td>P</td>\n",
       "    </tr>\n",
       "    <tr>\n",
       "      <th>128080</th>\n",
       "      <td>USGS</td>\n",
       "      <td>4174518</td>\n",
       "      <td>9/5/2023 15:30</td>\n",
       "      <td>EST</td>\n",
       "      <td>3.15</td>\n",
       "      <td>P</td>\n",
       "    </tr>\n",
       "    <tr>\n",
       "      <th>128081</th>\n",
       "      <td>USGS</td>\n",
       "      <td>4174518</td>\n",
       "      <td>9/5/2023 15:45</td>\n",
       "      <td>EST</td>\n",
       "      <td>3.15</td>\n",
       "      <td>P</td>\n",
       "    </tr>\n",
       "    <tr>\n",
       "      <th>128082</th>\n",
       "      <td>USGS</td>\n",
       "      <td>4174518</td>\n",
       "      <td>9/5/2023 16:00</td>\n",
       "      <td>EST</td>\n",
       "      <td>3.15</td>\n",
       "      <td>P</td>\n",
       "    </tr>\n",
       "    <tr>\n",
       "      <th>128083</th>\n",
       "      <td>USGS</td>\n",
       "      <td>4174518</td>\n",
       "      <td>9/5/2023 16:15</td>\n",
       "      <td>EST</td>\n",
       "      <td>3.15</td>\n",
       "      <td>P</td>\n",
       "    </tr>\n",
       "  </tbody>\n",
       "</table>\n",
       "<p>128084 rows × 6 columns</p>\n",
       "</div>"
      ],
      "text/plain": [
       "       Agency Code  Site Number       Date Time Time Coed  Gage Height  \\\n",
       "0             USGS      4174518   1/1/2020 0:00       EST         3.80   \n",
       "1             USGS      4174518   1/1/2020 0:15       EST         3.79   \n",
       "2             USGS      4174518   1/1/2020 0:30       EST         3.79   \n",
       "3             USGS      4174518   1/1/2020 0:45       EST         3.78   \n",
       "4             USGS      4174518   1/1/2020 1:00       EST         3.78   \n",
       "...            ...          ...             ...       ...          ...   \n",
       "128079        USGS      4174518  9/5/2023 15:15       EST         3.15   \n",
       "128080        USGS      4174518  9/5/2023 15:30       EST         3.15   \n",
       "128081        USGS      4174518  9/5/2023 15:45       EST         3.15   \n",
       "128082        USGS      4174518  9/5/2023 16:00       EST         3.15   \n",
       "128083        USGS      4174518  9/5/2023 16:15       EST         3.15   \n",
       "\n",
       "       Qualification Code  \n",
       "0                       A  \n",
       "1                       A  \n",
       "2                       A  \n",
       "3                       A  \n",
       "4                       A  \n",
       "...                   ...  \n",
       "128079                  P  \n",
       "128080                  P  \n",
       "128081                  P  \n",
       "128082                  P  \n",
       "128083                  P  \n",
       "\n",
       "[128084 rows x 6 columns]"
      ]
     },
     "execution_count": 2,
     "metadata": {},
     "output_type": "execute_result"
    }
   ],
   "source": [
    "# Load Mallets Creek Gage Height data\n",
    "gage_data = pd.read_csv('https://docs.google.com/spreadsheets/d/1xF0skrpLizGfT_7XnHgk5-iAhcYMVnIOq5q5OBhjTh4/gviz/tq?tqx=out:csv')\n",
    "gage_data"
   ]
  },
  {
   "cell_type": "markdown",
   "id": "389f72f4-1270-4b0d-92ca-630529d96ddc",
   "metadata": {},
   "source": [
    "We can see that the data is recorded in 15 minute increments from January 1, 2020 to September 5, 2023."
   ]
  },
  {
   "cell_type": "code",
   "execution_count": 3,
   "id": "95b3ead4-8413-4691-acac-c92b63c56c8f",
   "metadata": {},
   "outputs": [
    {
     "name": "stdout",
     "output_type": "stream",
     "text": [
      "<class 'pandas.core.frame.DataFrame'>\n",
      "RangeIndex: 128084 entries, 0 to 128083\n",
      "Data columns (total 6 columns):\n",
      " #   Column              Non-Null Count   Dtype  \n",
      "---  ------              --------------   -----  \n",
      " 0   Agency Code         128084 non-null  object \n",
      " 1   Site Number         128084 non-null  int64  \n",
      " 2   Date Time           128084 non-null  object \n",
      " 3   Time Coed           128084 non-null  object \n",
      " 4   Gage Height         128084 non-null  float64\n",
      " 5   Qualification Code  128084 non-null  object \n",
      "dtypes: float64(1), int64(1), object(4)\n",
      "memory usage: 5.9+ MB\n"
     ]
    }
   ],
   "source": [
    "# View data types of the gage height data\n",
    "gage_data.info()"
   ]
  },
  {
   "cell_type": "code",
   "execution_count": 4,
   "id": "1f908016-f7ac-493b-a206-402b312d454e",
   "metadata": {},
   "outputs": [],
   "source": [
    "# Change Date Time to a datetime object\n",
    "gage_data['Date Time'] = pd.to_datetime(gage_data['Date Time'])"
   ]
  },
  {
   "cell_type": "markdown",
   "id": "182e1a6d-63b9-48ac-9c85-d402937b4f0e",
   "metadata": {},
   "source": [
    "The Qualifications code have three different variables: A, e, and P. These codes represent the reliability of the data. \n",
    "- A: Approved for publication. Processing and review completed.\n",
    "- e: Value has been estimated\n",
    "- P: Provisional data subject to revision"
   ]
  },
  {
   "cell_type": "code",
   "execution_count": 5,
   "id": "06e76abd-9cd0-4eba-9fc2-85da5023b271",
   "metadata": {},
   "outputs": [
    {
     "data": {
      "text/plain": [
       "A    120767\n",
       "P      7317\n",
       "Name: Qualification Code, dtype: int64"
      ]
     },
     "execution_count": 5,
     "metadata": {},
     "output_type": "execute_result"
    }
   ],
   "source": [
    "# Check the quantities of observations for each qualification code\n",
    "gage_data['Qualification Code'].value_counts()"
   ]
  },
  {
   "cell_type": "markdown",
   "id": "bdfcab73-f513-40d8-a328-54d72b27fa85",
   "metadata": {},
   "source": [
    "Here, we can see that there are no records of the 'e' code present in the data. This means the data has either been approved or is subject to revision. For this analysis, we want to observe the approved data because we do not want to account for potentially unreliable/poor quality data."
   ]
  },
  {
   "cell_type": "code",
   "execution_count": 6,
   "id": "0aee5110-b3ca-447b-8dbd-a219c473e83d",
   "metadata": {},
   "outputs": [
    {
     "data": {
      "text/plain": [
       "A    120767\n",
       "Name: Qualification Code, dtype: int64"
      ]
     },
     "execution_count": 6,
     "metadata": {},
     "output_type": "execute_result"
    }
   ],
   "source": [
    "# Drop the gage data of with the Qualification Code 'P'\n",
    "gage_data = gage_data.drop(gage_data[gage_data['Qualification Code'] == 'P'].index)\n",
    "gage_data['Qualification Code'].value_counts()"
   ]
  },
  {
   "cell_type": "markdown",
   "id": "0ac4154a-a260-4329-93b6-f2290392707c",
   "metadata": {},
   "source": [
    "Now, lets view the overall distributions of the data's gage height without the qualification codes P."
   ]
  },
  {
   "cell_type": "code",
   "execution_count": 7,
   "id": "0222cd2c-4be1-4fa4-8cee-b3375e2ee947",
   "metadata": {},
   "outputs": [
    {
     "data": {
      "image/png": "[encoded data removed]",
      "text/plain": [
       "<Figure size 432x288 with 1 Axes>"
      ]
     },
     "metadata": {
      "needs_background": "light"
     },
     "output_type": "display_data"
    }
   ],
   "source": [
    "# Log the scale to have a better display of the data's distributions\n",
    "plt.hist(gage_data['Gage Height'], log = True)\n",
    "\n",
    "# Name the title and axes to describe the histogram\n",
    "plt.title('Malletts Creek Gage Height Distributions from 1/1/2020 - 9/5/2023')\n",
    "plt.xlabel('Gage Heights (ft)')\n",
    "plt.ylabel('log(Count)')\n",
    "\n",
    "plt.show()"
   ]
  },
  {
   "cell_type": "markdown",
   "id": "6efda6ee-c1f9-488b-9445-58a988cdaefb",
   "metadata": {},
   "source": [
    "The gage heights seem to mostly be between the 3-4 ft range. The histograms right skew shows that there are less records as the gage heights get larger."
   ]
  },
  {
   "cell_type": "markdown",
   "id": "e707b7ba-accf-4a9f-90af-1a07c56d4ac1",
   "metadata": {},
   "source": [
    "There is an outlier visible in the histogram, lets see what that is. "
   ]
  },
  {
   "cell_type": "code",
   "execution_count": 8,
   "id": "1f682a94-2d0c-4a37-ad62-a86749cc2eb1",
   "metadata": {},
   "outputs": [
    {
     "data": {
      "text/plain": [
       "'10.66 ft'"
      ]
     },
     "execution_count": 8,
     "metadata": {},
     "output_type": "execute_result"
    }
   ],
   "source": [
    "# See the maximum gage height record\n",
    "f\"{gage_data['Gage Height'].max()} ft\""
   ]
  },
  {
   "cell_type": "markdown",
   "id": "9935e4ad-5945-4fb3-a828-6208275ffdd1",
   "metadata": {},
   "source": [
    "Now, lets view the gage heights between 1/1/2020 - 9/5/2023."
   ]
  },
  {
   "cell_type": "code",
   "execution_count": 9,
   "id": "630a47dd-f119-43e1-9277-e75d962dace5",
   "metadata": {},
   "outputs": [
    {
     "data": {
      "image/png": "[encoded data removed]",
      "text/plain": [
       "<Figure size 720x576 with 1 Axes>"
      ]
     },
     "metadata": {
      "needs_background": "light"
     },
     "output_type": "display_data"
    }
   ],
   "source": [
    "# Plot the gage heights on a scatter plot to view the records across time\n",
    "plt.figure(figsize=(10, 8))\n",
    "\n",
    "# Use alpha = 0.5 to add granularity\n",
    "plt.scatter(gage_data['Date Time'], gage_data['Gage Height'], alpha = 0.5)\n",
    "\n",
    "# Name the title and axes of the scatter plot\n",
    "plt.title('Scatter plot of Gage Heights Over Time')\n",
    "plt.xlabel('Dates')\n",
    "plt.ylabel('Gage Height (ft)')\n",
    "\n",
    "plt.show()"
   ]
  },
  {
   "cell_type": "markdown",
   "id": "5e00eeb0-39fd-4d92-8657-2fd7367df935",
   "metadata": {},
   "source": [
    "Since there are only three years in the dataset, lets see how the years differ in gage height recordances. This will give us a view to compare the years."
   ]
  },
  {
   "cell_type": "markdown",
   "id": "600e398a-fe90-42a8-b437-86d530dfd37f",
   "metadata": {},
   "source": [
    "First we should make a new column in the data frame for the months:"
   ]
  },
  {
   "cell_type": "code",
   "execution_count": 10,
   "id": "5b31025d-fbd8-422a-ad6f-025fc931d1e7",
   "metadata": {},
   "outputs": [],
   "source": [
    "# Create datetime Year column from Date Time column\n",
    "gage_data['Year'] = gage_data['Date Time'].dt.year"
   ]
  },
  {
   "cell_type": "markdown",
   "id": "16808c61-5863-4c78-8ea2-65010c8a9f45",
   "metadata": {},
   "source": [
    "Now we need to find the average of gage height for the years:"
   ]
  },
  {
   "cell_type": "code",
   "execution_count": 11,
   "id": "cbcb9fb3-b21c-45eb-bc52-b0cb79646da5",
   "metadata": {},
   "outputs": [
    {
     "data": {
      "text/html": [
       "<div>\n",
       "<style scoped>\n",
       "    .dataframe tbody tr th:only-of-type {\n",
       "        vertical-align: middle;\n",
       "    }\n",
       "\n",
       "    .dataframe tbody tr th {\n",
       "        vertical-align: top;\n",
       "    }\n",
       "\n",
       "    .dataframe thead th {\n",
       "        text-align: right;\n",
       "    }\n",
       "</style>\n",
       "<table border=\"1\" class=\"dataframe\">\n",
       "  <thead>\n",
       "    <tr style=\"text-align: right;\">\n",
       "      <th></th>\n",
       "      <th>avg_height</th>\n",
       "    </tr>\n",
       "    <tr>\n",
       "      <th>Year</th>\n",
       "      <th></th>\n",
       "    </tr>\n",
       "  </thead>\n",
       "  <tbody>\n",
       "    <tr>\n",
       "      <th>2020</th>\n",
       "      <td>3.368640</td>\n",
       "    </tr>\n",
       "    <tr>\n",
       "      <th>2021</th>\n",
       "      <td>3.381845</td>\n",
       "    </tr>\n",
       "    <tr>\n",
       "      <th>2022</th>\n",
       "      <td>3.355969</td>\n",
       "    </tr>\n",
       "    <tr>\n",
       "      <th>2023</th>\n",
       "      <td>3.417219</td>\n",
       "    </tr>\n",
       "  </tbody>\n",
       "</table>\n",
       "</div>"
      ],
      "text/plain": [
       "      avg_height\n",
       "Year            \n",
       "2020    3.368640\n",
       "2021    3.381845\n",
       "2022    3.355969\n",
       "2023    3.417219"
      ]
     },
     "execution_count": 11,
     "metadata": {},
     "output_type": "execute_result"
    }
   ],
   "source": [
    "# Group and aggregate the data to find the average gage height for each year\n",
    "gage_height_by_year = gage_data.groupby('Year').aggregate(\n",
    "    avg_height = ('Gage Height', pd.DataFrame.mean))\n",
    "gage_height_by_year"
   ]
  },
  {
   "cell_type": "code",
   "execution_count": 12,
   "id": "4127e6eb-e1e8-480e-92ef-949e894b7a7a",
   "metadata": {},
   "outputs": [
    {
     "data": {
      "image/png": "[encoded data removed]",
      "text/plain": [
       "<Figure size 576x360 with 1 Axes>"
      ]
     },
     "metadata": {
      "needs_background": "light"
     },
     "output_type": "display_data"
    }
   ],
   "source": [
    "# Create plot of average gage heights over the years\n",
    "plt.figure(figsize=(8, 5))\n",
    "plt.plot(gage_height_by_year.index, gage_height_by_year['avg_height'], marker='o')\n",
    "\n",
    "# Name title and axes to describe plot \n",
    "plt.xlabel('Year')\n",
    "plt.ylabel('Average Gage Height (ft)')\n",
    "plt.title('Average Gage Height by Year')\n",
    "\n",
    "plt.grid(True)\n",
    "plt.show()"
   ]
  },
  {
   "cell_type": "code",
   "execution_count": 13,
   "id": "857fd1d5-4828-4225-9bf8-edb4d522c5a2",
   "metadata": {},
   "outputs": [
    {
     "data": {
      "text/plain": [
       "0.06"
      ]
     },
     "execution_count": 13,
     "metadata": {},
     "output_type": "execute_result"
    }
   ],
   "source": [
    "# Find the difference between 2022 and 2023.\n",
    "(round((gage_height_by_year.loc[2023]['avg_height'] - gage_height_by_year.loc[2022]['avg_height']), 2))"
   ]
  },
  {
   "cell_type": "markdown",
   "id": "e56e1645-bf1c-4c01-ace4-a5043402d43d",
   "metadata": {},
   "source": [
    "The largest difference is between 2022 and 2023. Althought it looks large, remember that this is only a  0.06 change in feet."
   ]
  },
  {
   "cell_type": "markdown",
   "id": "0390b496-1fde-4846-b260-85be728cd86e",
   "metadata": {},
   "source": [
    "Maybe the variety of heights occurs more during each year. We should explore the months of the years. Like before: \n",
    "- Make a year column from datetime\n",
    "- Group and aggregate the data to find the monthly averages of gage height"
   ]
  },
  {
   "cell_type": "code",
   "execution_count": 14,
   "id": "1c65033f-fa4c-4ada-b7e2-d7b30a807c26",
   "metadata": {},
   "outputs": [],
   "source": [
    "# Create datetime Month column from Date Time column\n",
    "gage_data['Month'] = gage_data['Date Time'].dt.month"
   ]
  },
  {
   "cell_type": "code",
   "execution_count": 15,
   "id": "2e399ef2-041b-4a8f-af38-c4ac03442b46",
   "metadata": {},
   "outputs": [],
   "source": [
    "# Group and aggregate the data to find the average gage height for each month\n",
    "gage_height_by_month = gage_data.groupby('Month').aggregate(\n",
    "    avg_height = ('Gage Height', pd.DataFrame.mean))"
   ]
  },
  {
   "cell_type": "markdown",
   "id": "bed726dc-17c5-44c1-b41a-68a64b087d48",
   "metadata": {},
   "source": [
    "Now, lets view the monthly gage height averages:"
   ]
  },
  {
   "cell_type": "code",
   "execution_count": 16,
   "id": "f772af52-e649-40f0-8481-d57852f145c9",
   "metadata": {},
   "outputs": [
    {
     "data": {
      "image/png": "[encoded data removed]",
      "text/plain": [
       "<Figure size 720x432 with 1 Axes>"
      ]
     },
     "metadata": {
      "needs_background": "light"
     },
     "output_type": "display_data"
    }
   ],
   "source": [
    "# Plot the monthly averages of gage height\n",
    "\n",
    "plt.figure(figsize=(10, 6))\n",
    "plt.plot(gage_height_by_month.index, gage_height_by_month)\n",
    "\n",
    "# Name the title and axes to describe the line plot\n",
    "plt.title('Line Plot of Average Monthly Gage Height')\n",
    "plt.xlabel('Months')\n",
    "plt.ylabel('Average Gage Height (ft)')\n",
    "\n",
    "plt.grid(True)\n",
    "plt.show()"
   ]
  },
  {
   "cell_type": "markdown",
   "id": "318f11d3-dc39-4796-a867-1bb5ec2eac0e",
   "metadata": {},
   "source": [
    "### Explanation"
   ]
  },
  {
   "cell_type": "markdown",
   "id": "57d6a085-dc97-45d0-9037-0624e9223d3a",
   "metadata": {},
   "source": [
    "From the Malletts Creek Gage Heights data, I wanted to explore how the gage height changes over time. First, I had to view the data and do some changes. I changed the 'Date Time' column to a datetime type so I was able to plot and manipulate it to create other columns like 'Month' and 'Year'. Next, I noticed that the dataset had difference ranges of quality based on a code. I filtered out the poorer quality records, symbolzed as 'P', to ensure that the data I was working with was solid information. \n",
    "\n",
    "Looking at the data, I made a histogram and scatter plot to look at the general distributions of the data. I noticed that most of the gage heights were in the area of 3-4 feet, but there were many stretches into the 5-6 feet range and a few outliers too. The outliers could be caused by a range of possibilites such as enviornmental or climate changes both caused by natural or human action. This would cause a deeper dive into specific USGS records, but for now I wanted to see the general trend of gage heights across time. \n",
    "\n",
    "So, I made more plots by grouping and aggregating the data to find the averages over the year and the months. The yearly averages were pretty consistent with one another. On the other hand, I thought the monthly averages were quite interesting. Based on the graph above, there is a clear spike of over 3.5 average feet on the third month, March. There also was a very low dip below 3.3 average feet in the eigth month, August. These observations can possibly indicate some seasonality trend for how gage height changes over time. A spike in March can infer the transition from winter to spring. During this time, temperature starts to rise along with wearther including snow or rain in Ann Arbor, MI. Melting of ice and wet weather could be the cause of a higher gage height. In August, this is typically a hotter month within summer. A hot climate could cause a lower gage height from a higher occurence of human interaction and evaporation. A higher temperature will naturally evaporate the water. I noticed that there were residential homes nearby parts of the creek on an external research of Malletts Park (https://www.a2gov.org/departments/Parks-Recreation/parks-places/pages/mallettscreek.aspx). Therefore, people may visit the creek for recreational activites which could potentially cause changes in the water like its gage height. "
   ]
  },
  {
   "cell_type": "markdown",
   "id": "9e8400cc-4241-4793-a11e-eda23a4ad008",
   "metadata": {},
   "source": [
    "## Exploration 2: Malletts Creek Gage Height in Relation to Creek Discharge "
   ]
  },
  {
   "cell_type": "markdown",
   "id": "791bcc50-0f79-46d7-b3ac-3a9d5e70cb51",
   "metadata": {},
   "source": [
    "* Note: Dr. Green has allowed me to use a second data set to merge and analyze the relationship between gage height and discharge."
   ]
  },
  {
   "cell_type": "markdown",
   "id": "c54e7dd2-0061-44eb-8584-c67d476dff6c",
   "metadata": {},
   "source": [
    "What is discharge?"
   ]
  },
  {
   "cell_type": "markdown",
   "id": "4a2b43e2-dab3-4f74-9b38-0880da4db7f4",
   "metadata": {},
   "source": [
    "According to USGS, \"Discharge is the volume of water moving down a stream or river per unit of time, commonly expressed in cubic feet per second or gallons per day. In general, river discharge is computed by multiplying the area of water in a channel cross section by the average velocity of the water in that cross section: discharge = area x velocity.\""
   ]
  },
  {
   "cell_type": "markdown",
   "id": "30a87754-e297-47f3-a423-be9324ba3e78",
   "metadata": {},
   "source": [
    "For more information visit https://www.usgs.gov/special-topics/water-science-school/science/how-streamflow-measured#overview"
   ]
  },
  {
   "cell_type": "code",
   "execution_count": 17,
   "id": "43b3ac06-49c6-40cd-b472-b0a05f1653b0",
   "metadata": {},
   "outputs": [
    {
     "data": {
      "text/html": [
       "<div>\n",
       "<style scoped>\n",
       "    .dataframe tbody tr th:only-of-type {\n",
       "        vertical-align: middle;\n",
       "    }\n",
       "\n",
       "    .dataframe tbody tr th {\n",
       "        vertical-align: top;\n",
       "    }\n",
       "\n",
       "    .dataframe thead th {\n",
       "        text-align: right;\n",
       "    }\n",
       "</style>\n",
       "<table border=\"1\" class=\"dataframe\">\n",
       "  <thead>\n",
       "    <tr style=\"text-align: right;\">\n",
       "      <th></th>\n",
       "      <th>Agency Code</th>\n",
       "      <th>Site Number</th>\n",
       "      <th>Date Time</th>\n",
       "      <th>Time Code</th>\n",
       "      <th>Discharge</th>\n",
       "      <th>Qualification Code</th>\n",
       "    </tr>\n",
       "  </thead>\n",
       "  <tbody>\n",
       "    <tr>\n",
       "      <th>0</th>\n",
       "      <td>USGS</td>\n",
       "      <td>4174518</td>\n",
       "      <td>1/1/2020 0:00</td>\n",
       "      <td>EST</td>\n",
       "      <td>30.80</td>\n",
       "      <td>A</td>\n",
       "    </tr>\n",
       "    <tr>\n",
       "      <th>1</th>\n",
       "      <td>USGS</td>\n",
       "      <td>4174518</td>\n",
       "      <td>1/1/2020 0:15</td>\n",
       "      <td>EST</td>\n",
       "      <td>30.00</td>\n",
       "      <td>A</td>\n",
       "    </tr>\n",
       "    <tr>\n",
       "      <th>2</th>\n",
       "      <td>USGS</td>\n",
       "      <td>4174518</td>\n",
       "      <td>1/1/2020 0:30</td>\n",
       "      <td>EST</td>\n",
       "      <td>30.00</td>\n",
       "      <td>A</td>\n",
       "    </tr>\n",
       "    <tr>\n",
       "      <th>3</th>\n",
       "      <td>USGS</td>\n",
       "      <td>4174518</td>\n",
       "      <td>1/1/2020 0:45</td>\n",
       "      <td>EST</td>\n",
       "      <td>29.20</td>\n",
       "      <td>A</td>\n",
       "    </tr>\n",
       "    <tr>\n",
       "      <th>4</th>\n",
       "      <td>USGS</td>\n",
       "      <td>4174518</td>\n",
       "      <td>1/1/2020 1:00</td>\n",
       "      <td>EST</td>\n",
       "      <td>29.20</td>\n",
       "      <td>A</td>\n",
       "    </tr>\n",
       "    <tr>\n",
       "      <th>...</th>\n",
       "      <td>...</td>\n",
       "      <td>...</td>\n",
       "      <td>...</td>\n",
       "      <td>...</td>\n",
       "      <td>...</td>\n",
       "      <td>...</td>\n",
       "    </tr>\n",
       "    <tr>\n",
       "      <th>127689</th>\n",
       "      <td>USGS</td>\n",
       "      <td>4174518</td>\n",
       "      <td>9/5/2023 15:15</td>\n",
       "      <td>EST</td>\n",
       "      <td>2.74</td>\n",
       "      <td>P</td>\n",
       "    </tr>\n",
       "    <tr>\n",
       "      <th>127690</th>\n",
       "      <td>USGS</td>\n",
       "      <td>4174518</td>\n",
       "      <td>9/5/2023 15:30</td>\n",
       "      <td>EST</td>\n",
       "      <td>2.74</td>\n",
       "      <td>P</td>\n",
       "    </tr>\n",
       "    <tr>\n",
       "      <th>127691</th>\n",
       "      <td>USGS</td>\n",
       "      <td>4174518</td>\n",
       "      <td>9/5/2023 15:45</td>\n",
       "      <td>EST</td>\n",
       "      <td>2.74</td>\n",
       "      <td>P</td>\n",
       "    </tr>\n",
       "    <tr>\n",
       "      <th>127692</th>\n",
       "      <td>USGS</td>\n",
       "      <td>4174518</td>\n",
       "      <td>9/5/2023 16:00</td>\n",
       "      <td>EST</td>\n",
       "      <td>2.74</td>\n",
       "      <td>P</td>\n",
       "    </tr>\n",
       "    <tr>\n",
       "      <th>127693</th>\n",
       "      <td>USGS</td>\n",
       "      <td>4174518</td>\n",
       "      <td>9/5/2023 16:15</td>\n",
       "      <td>EST</td>\n",
       "      <td>2.74</td>\n",
       "      <td>P</td>\n",
       "    </tr>\n",
       "  </tbody>\n",
       "</table>\n",
       "<p>127694 rows × 6 columns</p>\n",
       "</div>"
      ],
      "text/plain": [
       "       Agency Code  Site Number       Date Time Time Code  Discharge  \\\n",
       "0             USGS      4174518   1/1/2020 0:00       EST      30.80   \n",
       "1             USGS      4174518   1/1/2020 0:15       EST      30.00   \n",
       "2             USGS      4174518   1/1/2020 0:30       EST      30.00   \n",
       "3             USGS      4174518   1/1/2020 0:45       EST      29.20   \n",
       "4             USGS      4174518   1/1/2020 1:00       EST      29.20   \n",
       "...            ...          ...             ...       ...        ...   \n",
       "127689        USGS      4174518  9/5/2023 15:15       EST       2.74   \n",
       "127690        USGS      4174518  9/5/2023 15:30       EST       2.74   \n",
       "127691        USGS      4174518  9/5/2023 15:45       EST       2.74   \n",
       "127692        USGS      4174518  9/5/2023 16:00       EST       2.74   \n",
       "127693        USGS      4174518  9/5/2023 16:15       EST       2.74   \n",
       "\n",
       "       Qualification Code  \n",
       "0                       A  \n",
       "1                       A  \n",
       "2                       A  \n",
       "3                       A  \n",
       "4                       A  \n",
       "...                   ...  \n",
       "127689                  P  \n",
       "127690                  P  \n",
       "127691                  P  \n",
       "127692                  P  \n",
       "127693                  P  \n",
       "\n",
       "[127694 rows x 6 columns]"
      ]
     },
     "execution_count": 17,
     "metadata": {},
     "output_type": "execute_result"
    }
   ],
   "source": [
    "# Load Mallets Creek Discharge Data data\n",
    "discharge_data = pd.read_csv('https://docs.google.com/spreadsheets/d/1CzycNXvSgYab4ujYoulzbfY0oPha7yOHLocmwCGNpgM/gviz/tq?tqx=out:csv')\n",
    "discharge_data"
   ]
  },
  {
   "cell_type": "markdown",
   "id": "12bff82c-4966-4b69-ba0b-7bc68ebf3bc5",
   "metadata": {},
   "source": [
    "We can see that the data is recorded in 15 minute increments from January 1, 2020 to September 5, 2023."
   ]
  },
  {
   "cell_type": "code",
   "execution_count": 18,
   "id": "249ed89f-89d5-46df-b0d1-458b7bc0b560",
   "metadata": {},
   "outputs": [
    {
     "name": "stdout",
     "output_type": "stream",
     "text": [
      "<class 'pandas.core.frame.DataFrame'>\n",
      "RangeIndex: 127694 entries, 0 to 127693\n",
      "Data columns (total 6 columns):\n",
      " #   Column              Non-Null Count   Dtype  \n",
      "---  ------              --------------   -----  \n",
      " 0   Agency Code         127694 non-null  object \n",
      " 1   Site Number         127694 non-null  int64  \n",
      " 2   Date Time           127694 non-null  object \n",
      " 3   Time Code           127694 non-null  object \n",
      " 4   Discharge           127694 non-null  float64\n",
      " 5   Qualification Code  127694 non-null  object \n",
      "dtypes: float64(1), int64(1), object(4)\n",
      "memory usage: 5.8+ MB\n"
     ]
    }
   ],
   "source": [
    "# View data types of the creek data\n",
    "discharge_data.info()"
   ]
  },
  {
   "cell_type": "code",
   "execution_count": 19,
   "id": "edc489e7-9b30-4760-8954-8a0834845215",
   "metadata": {},
   "outputs": [],
   "source": [
    "# Change Date Time to a datetime object\n",
    "discharge_data['Date Time'] = pd.to_datetime(discharge_data['Date Time'])"
   ]
  },
  {
   "cell_type": "markdown",
   "id": "fa8b109c-af99-423c-8495-9ce617258ae6",
   "metadata": {},
   "source": [
    "The Qualifications code have three different variables: A, e, and P. These codes represent the reliability of the data. \n",
    "- A: Approved for publication. Processing and review completed.\n",
    "- e: Value has been estimated\n",
    "- P: Provisional data subject to revision"
   ]
  },
  {
   "cell_type": "code",
   "execution_count": 20,
   "id": "7716377d-cb0c-44e5-becf-5888fe3b86cb",
   "metadata": {},
   "outputs": [
    {
     "data": {
      "text/plain": [
       "A      119641\n",
       "P        7317\n",
       "A:e       736\n",
       "Name: Qualification Code, dtype: int64"
      ]
     },
     "execution_count": 20,
     "metadata": {},
     "output_type": "execute_result"
    }
   ],
   "source": [
    "# Check the quantities of observations for each qualification code\n",
    "discharge_data['Qualification Code'].value_counts()"
   ]
  },
  {
   "cell_type": "markdown",
   "id": "cbc3dde8-6170-4a6d-a725-60cfe7bf9997",
   "metadata": {},
   "source": [
    "Here, we can see that there records of the 'A', 'A:e', and 'P' code present in the data. This means the data has either been approved, only estimated, or subject for revision. Like exploration 1, in this analysis we want to observe the approved data because we do not want to account for potentially unreliable/poor quality data."
   ]
  },
  {
   "cell_type": "code",
   "execution_count": 21,
   "id": "8c1bb4e9-fa96-4679-8598-1a2b06f81667",
   "metadata": {},
   "outputs": [
    {
     "data": {
      "text/plain": [
       "A    119641\n",
       "Name: Qualification Code, dtype: int64"
      ]
     },
     "execution_count": 21,
     "metadata": {},
     "output_type": "execute_result"
    }
   ],
   "source": [
    "# Drop the rows of with the Qualification Code 'P' and 'A:e'\n",
    "discharge_data = discharge_data.drop(discharge_data[discharge_data['Qualification Code'] == 'P'].index)\n",
    "discharge_data = discharge_data.drop(discharge_data[discharge_data['Qualification Code'] == 'A:e'].index)\n",
    "\n",
    "# Check the values and their counts\n",
    "discharge_data['Qualification Code'].value_counts()"
   ]
  },
  {
   "cell_type": "markdown",
   "id": "99eff4a2-67d3-42ea-ad73-3ace9bd0e15d",
   "metadata": {},
   "source": [
    "Before analyzing the relationship between height gage and discharge, lets look into the Malletts Creek Discharge data separately."
   ]
  },
  {
   "cell_type": "markdown",
   "id": "6d47c5e5-6efc-43e7-bcfd-51f2969b468d",
   "metadata": {},
   "source": [
    "First, lets look into the overall disrtibutions of the discharge data. "
   ]
  },
  {
   "cell_type": "code",
   "execution_count": 22,
   "id": "d3cb4324-13b3-45c3-a30a-128f4b171beb",
   "metadata": {},
   "outputs": [
    {
     "data": {
      "image/png": "[encoded data removed]",
      "text/plain": [
       "<Figure size 432x288 with 1 Axes>"
      ]
     },
     "metadata": {
      "needs_background": "light"
     },
     "output_type": "display_data"
    }
   ],
   "source": [
    "# Log the scale to have a better display of the data's distributions\n",
    "plt.hist(discharge_data['Discharge'], log = True)\n",
    "\n",
    "# Name the title and axes to describe the histogram\n",
    "plt.title('Malletts Creek Discharge from 1/1/2020 - 9/5/2023')\n",
    "plt.xlabel('Discharge (ft^3)')\n",
    "plt.ylabel('log(Count)')\n",
    "\n",
    "plt.show()"
   ]
  },
  {
   "cell_type": "markdown",
   "id": "94d43c1f-b785-4018-b5ee-b897995f0d59",
   "metadata": {},
   "source": [
    "The discharge seems to mostly be between the 0-250 cubic feet range. The histograms general right skew shows there are less records of large amounts of discharge."
   ]
  },
  {
   "cell_type": "markdown",
   "id": "9db7e1b9-68a0-494f-a031-897316c9abd5",
   "metadata": {},
   "source": [
    "There is a visible outlier in the data. Lets look into the outlier's information."
   ]
  },
  {
   "cell_type": "code",
   "execution_count": 23,
   "id": "1492c68b-d9fe-45b3-b751-a46cd5dfb7db",
   "metadata": {},
   "outputs": [
    {
     "data": {
      "text/plain": [
       "'1780.0 cubic ft'"
      ]
     },
     "execution_count": 23,
     "metadata": {},
     "output_type": "execute_result"
    }
   ],
   "source": [
    "# See the maximum discharge record for outlier\n",
    "f\"{discharge_data['Discharge'].max()} cubic ft\""
   ]
  },
  {
   "cell_type": "markdown",
   "id": "ab56a0f3-87a2-472b-a5d7-d75a1876e1c0",
   "metadata": {},
   "source": [
    "Since we have the general distrubutions, lets look view the discharge records from 1/1/2020-9/5/2023 in a scatter plot:"
   ]
  },
  {
   "cell_type": "code",
   "execution_count": 24,
   "id": "8cbed0f0-f12d-4cb3-bcb7-0a9831fd4010",
   "metadata": {},
   "outputs": [
    {
     "data": {
      "image/png": "[encoded data removed]",
      "text/plain": [
       "<Figure size 576x576 with 1 Axes>"
      ]
     },
     "metadata": {
      "needs_background": "light"
     },
     "output_type": "display_data"
    }
   ],
   "source": [
    "# Plot the discharge on a scatter plot to view the records across time\n",
    "plt.figure(figsize=(8, 8))\n",
    "\n",
    "# Use alpha = 0.5 to add granularity\n",
    "plt.scatter(discharge_data['Date Time'], discharge_data['Discharge'], alpha = 0.5)\n",
    "\n",
    "# Name the title and axes of the scatter plot\n",
    "plt.title('Scatter plot of Discharge Over Time')\n",
    "plt.xlabel('Dates')\n",
    "plt.ylabel('log(Discharge (ft^3))')\n",
    "\n",
    "# Log the y-scale of the plot to better visualize where points fall\n",
    "plt.yscale('log')\n",
    "\n",
    "plt.show()"
   ]
  },
  {
   "cell_type": "markdown",
   "id": "bbcbca80-93c9-4e48-b157-30556287f46d",
   "metadata": {},
   "source": [
    "I logged the y-scale of this plot to better see where the points fall and to better differentiate the y-values since they are organized by 250 increments in the histogram.\n",
    "The scatter plot shows that a majority of the data falls around the 10 mark (10^1) because of the dense area."
   ]
  },
  {
   "cell_type": "markdown",
   "id": "eeea6166-28ed-4b88-b89d-362b815ba78a",
   "metadata": {},
   "source": [
    "To check this, we will compare it to the overall average of the data: "
   ]
  },
  {
   "cell_type": "code",
   "execution_count": 25,
   "id": "410017b0-4a45-4d4e-9e22-3d40bb5594d5",
   "metadata": {},
   "outputs": [
    {
     "data": {
      "text/plain": [
       "'The average of the data set is: 10.921579558846883 cubic feet.'"
      ]
     },
     "execution_count": 25,
     "metadata": {},
     "output_type": "execute_result"
    }
   ],
   "source": [
    "f\"The average of the data set is: {discharge_data['Discharge'].mean()} cubic feet.\""
   ]
  },
  {
   "cell_type": "markdown",
   "id": "06e56faf-b123-46de-a7df-f3879faf60ab",
   "metadata": {},
   "source": [
    "This seems accuracte since the average of the data set is close to the point where a majority of the data fall in the scatter plot."
   ]
  },
  {
   "cell_type": "markdown",
   "id": "3d40b422-e653-4dd5-8fc5-fbdcdc4a3eae",
   "metadata": {},
   "source": [
    "Since there is so much data, lets look at how the discharge differs year to year on average.\n"
   ]
  },
  {
   "cell_type": "markdown",
   "id": "07366de2-f719-44a0-a190-5ccb01319cf6",
   "metadata": {},
   "source": [
    "First, we need to make a Year column to sort the data."
   ]
  },
  {
   "cell_type": "code",
   "execution_count": 26,
   "id": "e63b348d-9398-4d5b-a141-e46a43432a60",
   "metadata": {},
   "outputs": [],
   "source": [
    "# Make 'Year' column from 'Date Time'\n",
    "discharge_data['Year'] = discharge_data['Date Time'].dt.year"
   ]
  },
  {
   "cell_type": "markdown",
   "id": "5ef6aa5f-d70c-44fd-81b7-a0ebb3dce830",
   "metadata": {},
   "source": [
    "Now we need to see the average discharge for each year. We can accomplish this by grouping and aggregating the data."
   ]
  },
  {
   "cell_type": "code",
   "execution_count": 27,
   "id": "4b822213-55e4-4560-abb9-8df72f85fe6d",
   "metadata": {},
   "outputs": [
    {
     "data": {
      "text/html": [
       "<div>\n",
       "<style scoped>\n",
       "    .dataframe tbody tr th:only-of-type {\n",
       "        vertical-align: middle;\n",
       "    }\n",
       "\n",
       "    .dataframe tbody tr th {\n",
       "        vertical-align: top;\n",
       "    }\n",
       "\n",
       "    .dataframe thead th {\n",
       "        text-align: right;\n",
       "    }\n",
       "</style>\n",
       "<table border=\"1\" class=\"dataframe\">\n",
       "  <thead>\n",
       "    <tr style=\"text-align: right;\">\n",
       "      <th></th>\n",
       "      <th>avg_discharge</th>\n",
       "    </tr>\n",
       "    <tr>\n",
       "      <th>Year</th>\n",
       "      <th></th>\n",
       "    </tr>\n",
       "  </thead>\n",
       "  <tbody>\n",
       "    <tr>\n",
       "      <th>2020</th>\n",
       "      <td>12.811814</td>\n",
       "    </tr>\n",
       "    <tr>\n",
       "      <th>2021</th>\n",
       "      <td>11.958744</td>\n",
       "    </tr>\n",
       "    <tr>\n",
       "      <th>2022</th>\n",
       "      <td>8.219457</td>\n",
       "    </tr>\n",
       "    <tr>\n",
       "      <th>2023</th>\n",
       "      <td>10.522262</td>\n",
       "    </tr>\n",
       "  </tbody>\n",
       "</table>\n",
       "</div>"
      ],
      "text/plain": [
       "      avg_discharge\n",
       "Year               \n",
       "2020      12.811814\n",
       "2021      11.958744\n",
       "2022       8.219457\n",
       "2023      10.522262"
      ]
     },
     "execution_count": 27,
     "metadata": {},
     "output_type": "execute_result"
    }
   ],
   "source": [
    "# Group and aggregate the data to find the average gage height for each year\n",
    "discharge_by_year = discharge_data.groupby('Year').aggregate(\n",
    "    avg_discharge = ('Discharge', pd.DataFrame.mean))\n",
    "discharge_by_year"
   ]
  },
  {
   "cell_type": "markdown",
   "id": "2eebcb70-1683-4c0f-a44b-f2ee0d70927f",
   "metadata": {},
   "source": [
    "These values are not as similar to each other as the gage height, lets plot them for a closer look."
   ]
  },
  {
   "cell_type": "code",
   "execution_count": 28,
   "id": "cb0630b1-b628-4479-8862-8bf33480a1dd",
   "metadata": {},
   "outputs": [
    {
     "data": {
      "image/png": "[encoded data removed]",
      "text/plain": [
       "<Figure size 576x360 with 1 Axes>"
      ]
     },
     "metadata": {
      "needs_background": "light"
     },
     "output_type": "display_data"
    }
   ],
   "source": [
    "# Create plot of average discharges over the years\n",
    "plt.figure(figsize=(8, 5))\n",
    "plt.plot(discharge_by_year.index, discharge_by_year['avg_discharge'], marker='o')\n",
    "\n",
    "# Name title and axes to describe plot \n",
    "plt.xlabel('Year')\n",
    "plt.ylabel('Average Discharge (ft^3)')\n",
    "plt.title('Average Discharge by Year')\n",
    "\n",
    "plt.grid(True)\n",
    "plt.show()"
   ]
  },
  {
   "cell_type": "markdown",
   "id": "df421c4b-c005-4390-883a-7127f5343e43",
   "metadata": {},
   "source": [
    "This is very interesting. The comparable gage height has the same low dip in 2022, but the earlier years of the average discharge have a more negative trend whereas the average gage height plot's earlier years have a more positive trend."
   ]
  },
  {
   "cell_type": "markdown",
   "id": "ad97f698-a6fd-46ee-8f1f-956a23368b4a",
   "metadata": {},
   "source": [
    "Even though there are some noticeable differences between the years, lets look at the monthly averages for discharges too."
   ]
  },
  {
   "cell_type": "markdown",
   "id": "6a243789-e227-4907-bdc1-13a22df3810b",
   "metadata": {},
   "source": [
    "Lets start by making a Month column:"
   ]
  },
  {
   "cell_type": "code",
   "execution_count": 29,
   "id": "429a8687-fd3a-408e-8ad7-84ce7865602a",
   "metadata": {},
   "outputs": [],
   "source": [
    "# Make 'Month' column from 'Date Time'\n",
    "discharge_data['Month'] = discharge_data['Date Time'].dt.month"
   ]
  },
  {
   "cell_type": "markdown",
   "id": "c10ce6a3-8b2a-483c-8137-ff2b190e48b8",
   "metadata": {},
   "source": [
    "Now we find the discharge averages of each month. We can do this by grouping and aggregating the data."
   ]
  },
  {
   "cell_type": "code",
   "execution_count": 30,
   "id": "f0b64391-32ea-4807-b055-c84e5f29e413",
   "metadata": {},
   "outputs": [
    {
     "data": {
      "text/html": [
       "<div>\n",
       "<style scoped>\n",
       "    .dataframe tbody tr th:only-of-type {\n",
       "        vertical-align: middle;\n",
       "    }\n",
       "\n",
       "    .dataframe tbody tr th {\n",
       "        vertical-align: top;\n",
       "    }\n",
       "\n",
       "    .dataframe thead th {\n",
       "        text-align: right;\n",
       "    }\n",
       "</style>\n",
       "<table border=\"1\" class=\"dataframe\">\n",
       "  <thead>\n",
       "    <tr style=\"text-align: right;\">\n",
       "      <th></th>\n",
       "      <th>avg_discharge</th>\n",
       "    </tr>\n",
       "    <tr>\n",
       "      <th>Month</th>\n",
       "      <th></th>\n",
       "    </tr>\n",
       "  </thead>\n",
       "  <tbody>\n",
       "    <tr>\n",
       "      <th>1</th>\n",
       "      <td>10.845542</td>\n",
       "    </tr>\n",
       "    <tr>\n",
       "      <th>2</th>\n",
       "      <td>10.876997</td>\n",
       "    </tr>\n",
       "    <tr>\n",
       "      <th>3</th>\n",
       "      <td>17.449804</td>\n",
       "    </tr>\n",
       "    <tr>\n",
       "      <th>4</th>\n",
       "      <td>11.893970</td>\n",
       "    </tr>\n",
       "    <tr>\n",
       "      <th>5</th>\n",
       "      <td>12.146586</td>\n",
       "    </tr>\n",
       "    <tr>\n",
       "      <th>6</th>\n",
       "      <td>10.820657</td>\n",
       "    </tr>\n",
       "    <tr>\n",
       "      <th>7</th>\n",
       "      <td>11.225527</td>\n",
       "    </tr>\n",
       "    <tr>\n",
       "      <th>8</th>\n",
       "      <td>7.859438</td>\n",
       "    </tr>\n",
       "    <tr>\n",
       "      <th>9</th>\n",
       "      <td>10.495594</td>\n",
       "    </tr>\n",
       "    <tr>\n",
       "      <th>10</th>\n",
       "      <td>9.735043</td>\n",
       "    </tr>\n",
       "    <tr>\n",
       "      <th>11</th>\n",
       "      <td>5.674639</td>\n",
       "    </tr>\n",
       "    <tr>\n",
       "      <th>12</th>\n",
       "      <td>9.161074</td>\n",
       "    </tr>\n",
       "  </tbody>\n",
       "</table>\n",
       "</div>"
      ],
      "text/plain": [
       "       avg_discharge\n",
       "Month               \n",
       "1          10.845542\n",
       "2          10.876997\n",
       "3          17.449804\n",
       "4          11.893970\n",
       "5          12.146586\n",
       "6          10.820657\n",
       "7          11.225527\n",
       "8           7.859438\n",
       "9          10.495594\n",
       "10          9.735043\n",
       "11          5.674639\n",
       "12          9.161074"
      ]
     },
     "execution_count": 30,
     "metadata": {},
     "output_type": "execute_result"
    }
   ],
   "source": [
    "# Group and aggregate the data to find the average discharge for each month\n",
    "discharge_by_month = discharge_data.groupby('Month').aggregate(\n",
    "    avg_discharge = ('Discharge', pd.DataFrame.mean))\n",
    "discharge_by_month"
   ]
  },
  {
   "cell_type": "markdown",
   "id": "a1d1e2ff-20ae-4224-97a9-3e54bc3ca5bc",
   "metadata": {},
   "source": [
    "Upon a first look, I see there is a much larger value in the third month. Maybe this corresponds with our third month spike in the monthly average gage heights plot from earlier. Lets plot the data for a good look."
   ]
  },
  {
   "cell_type": "code",
   "execution_count": 31,
   "id": "1acace15-2867-44f7-8244-a4f6859f818d",
   "metadata": {},
   "outputs": [
    {
     "data": {
      "image/png": "[encoded data removed]",
      "text/plain": [
       "<Figure size 720x432 with 1 Axes>"
      ]
     },
     "metadata": {
      "needs_background": "light"
     },
     "output_type": "display_data"
    }
   ],
   "source": [
    "# Plot the monthly averages of discharge\n",
    "plt.figure(figsize=(10, 6))\n",
    "plt.plot(discharge_by_month.index, discharge_by_month)\n",
    "\n",
    "# Name the title and axes to describe the line plot\n",
    "plt.title('Line Plot of Average Monthly Discharge')\n",
    "plt.xlabel('Months')\n",
    "plt.ylabel('Average Discharge (ft^3)')\n",
    "\n",
    "plt.grid(True)\n",
    "plt.show()"
   ]
  },
  {
   "cell_type": "markdown",
   "id": "392b1262-787b-478b-ab96-755ba2c58fdf",
   "metadata": {},
   "source": [
    "The spike of the third month is clearly the highest value like we saw before in the monthly averages of gage height. There also seems to ba a low dip in the 11th month. "
   ]
  },
  {
   "cell_type": "markdown",
   "id": "fafd6473-9206-4dcc-91a3-bc2114333281",
   "metadata": {},
   "source": [
    "Now that we see a commonality between the gage heights and discharges, we should look further into their relationship. First we will do this by merging both of the datasets."
   ]
  },
  {
   "cell_type": "code",
   "execution_count": 32,
   "id": "3a2b600d-539c-41a4-8687-5715671d85ca",
   "metadata": {},
   "outputs": [],
   "source": [
    "# Inner merge the databases to disregard the records with null values in 'Discharge' and 'Gage Height'\n",
    "merged_df = pd.merge(gage_data, discharge_data, how = 'inner')"
   ]
  },
  {
   "cell_type": "markdown",
   "id": "ec45d9c7-fc42-426c-9ac4-bb73d68cb423",
   "metadata": {},
   "source": [
    "Now, we will group and aggregate the data to find the monthly averages of gage height and discharge."
   ]
  },
  {
   "cell_type": "code",
   "execution_count": 33,
   "id": "1d2b2d3c-3707-4e14-b7d8-9b2e7f84048f",
   "metadata": {},
   "outputs": [
    {
     "data": {
      "text/html": [
       "<div>\n",
       "<style scoped>\n",
       "    .dataframe tbody tr th:only-of-type {\n",
       "        vertical-align: middle;\n",
       "    }\n",
       "\n",
       "    .dataframe tbody tr th {\n",
       "        vertical-align: top;\n",
       "    }\n",
       "\n",
       "    .dataframe thead th {\n",
       "        text-align: right;\n",
       "    }\n",
       "</style>\n",
       "<table border=\"1\" class=\"dataframe\">\n",
       "  <thead>\n",
       "    <tr style=\"text-align: right;\">\n",
       "      <th></th>\n",
       "      <th>Gage Height</th>\n",
       "      <th>Discharge</th>\n",
       "    </tr>\n",
       "    <tr>\n",
       "      <th>Month</th>\n",
       "      <th></th>\n",
       "      <th></th>\n",
       "    </tr>\n",
       "  </thead>\n",
       "  <tbody>\n",
       "    <tr>\n",
       "      <th>1</th>\n",
       "      <td>3.384946</td>\n",
       "      <td>10.736501</td>\n",
       "    </tr>\n",
       "    <tr>\n",
       "      <th>2</th>\n",
       "      <td>3.400137</td>\n",
       "      <td>10.876997</td>\n",
       "    </tr>\n",
       "    <tr>\n",
       "      <th>3</th>\n",
       "      <td>3.521917</td>\n",
       "      <td>17.449804</td>\n",
       "    </tr>\n",
       "    <tr>\n",
       "      <th>4</th>\n",
       "      <td>3.440589</td>\n",
       "      <td>11.893970</td>\n",
       "    </tr>\n",
       "    <tr>\n",
       "      <th>5</th>\n",
       "      <td>3.396244</td>\n",
       "      <td>12.146586</td>\n",
       "    </tr>\n",
       "    <tr>\n",
       "      <th>6</th>\n",
       "      <td>3.335705</td>\n",
       "      <td>10.820657</td>\n",
       "    </tr>\n",
       "    <tr>\n",
       "      <th>7</th>\n",
       "      <td>3.354215</td>\n",
       "      <td>11.225527</td>\n",
       "    </tr>\n",
       "    <tr>\n",
       "      <th>8</th>\n",
       "      <td>3.264710</td>\n",
       "      <td>7.859438</td>\n",
       "    </tr>\n",
       "    <tr>\n",
       "      <th>9</th>\n",
       "      <td>3.325133</td>\n",
       "      <td>10.495594</td>\n",
       "    </tr>\n",
       "    <tr>\n",
       "      <th>10</th>\n",
       "      <td>3.353234</td>\n",
       "      <td>9.735043</td>\n",
       "    </tr>\n",
       "    <tr>\n",
       "      <th>11</th>\n",
       "      <td>3.300043</td>\n",
       "      <td>5.674639</td>\n",
       "    </tr>\n",
       "    <tr>\n",
       "      <th>12</th>\n",
       "      <td>3.366412</td>\n",
       "      <td>9.161074</td>\n",
       "    </tr>\n",
       "  </tbody>\n",
       "</table>\n",
       "</div>"
      ],
      "text/plain": [
       "       Gage Height  Discharge\n",
       "Month                        \n",
       "1         3.384946  10.736501\n",
       "2         3.400137  10.876997\n",
       "3         3.521917  17.449804\n",
       "4         3.440589  11.893970\n",
       "5         3.396244  12.146586\n",
       "6         3.335705  10.820657\n",
       "7         3.354215  11.225527\n",
       "8         3.264710   7.859438\n",
       "9         3.325133  10.495594\n",
       "10        3.353234   9.735043\n",
       "11        3.300043   5.674639\n",
       "12        3.366412   9.161074"
      ]
     },
     "execution_count": 33,
     "metadata": {},
     "output_type": "execute_result"
    }
   ],
   "source": [
    "merged_monthly_avgs = merged_df.groupby('Month').agg({'Gage Height': 'mean', 'Discharge': 'mean'})\n",
    "merged_monthly_avgs"
   ]
  },
  {
   "cell_type": "markdown",
   "id": "2df244d0-fc39-4c1d-88a5-81ebf426dc0a",
   "metadata": {},
   "source": [
    "With the aggregated data, it is time to plot them. For this relationship we will use a scatter plot."
   ]
  },
  {
   "cell_type": "code",
   "execution_count": 34,
   "id": "74d4a1df-96e7-40e6-9a14-7c870757cef7",
   "metadata": {},
   "outputs": [
    {
     "data": {
      "image/png": "[encoded data removed]",
      "text/plain": [
       "<Figure size 720x432 with 1 Axes>"
      ]
     },
     "metadata": {
      "needs_background": "light"
     },
     "output_type": "display_data"
    }
   ],
   "source": [
    "# Create scatter plot\n",
    "plt.figure(figsize=[10,6])\n",
    "plt.scatter(merged_monthly_avgs['Discharge'], merged_monthly_avgs['Gage Height'], s = 100)\n",
    "\n",
    "# Name the title and axes to describe the plot\n",
    "plt.title('Monthly Averages of Gage Height and Discharge')\n",
    "plt.xlabel('Discharge (ft^3)')\n",
    "plt.ylabel('Gage Height (ft)')\n",
    "\n",
    "plt.grid(True)\n",
    "plt.show()"
   ]
  },
  {
   "cell_type": "markdown",
   "id": "c672d6dc-4a3d-404c-b926-10130db720b2",
   "metadata": {},
   "source": [
    "It is clear the scatter plot gas a general positive trend. "
   ]
  },
  {
   "cell_type": "markdown",
   "id": "ba16b0e0-9ba3-4f52-b998-b9cdd568eb6a",
   "metadata": {},
   "source": [
    "I will also provide a scatter plot of the merged data's height gage and discharge to view the overall relationship trend for every record in the data set."
   ]
  },
  {
   "cell_type": "code",
   "execution_count": 35,
   "id": "75aa6df3-b1a4-4907-921e-3eb0fffe2ab1",
   "metadata": {},
   "outputs": [
    {
     "data": {
      "image/png": "[encoded data removed]",
      "text/plain": [
       "<Figure size 720x432 with 1 Axes>"
      ]
     },
     "metadata": {
      "needs_background": "light"
     },
     "output_type": "display_data"
    }
   ],
   "source": [
    "# Create scatter plot\n",
    "plt.figure(figsize=[10,6])\n",
    "plt.scatter(merged_df['Discharge'], merged_df['Gage Height'])\n",
    "\n",
    "# Name the title and axes to describe the scatter plot\n",
    "plt.title('Averages of Gage Height and Discharge')\n",
    "plt.xlabel('Discharge (ft^3)')\n",
    "plt.ylabel('Gage Height (ft)')\n",
    "\n",
    "plt.grid(True)\n",
    "plt.show()"
   ]
  },
  {
   "cell_type": "markdown",
   "id": "26a8359c-0fdf-4294-9838-78913ffc1df0",
   "metadata": {},
   "source": [
    "This plot emphasizes the positive relationship between discharge and gage height. This means as discharge increases, the gage height increases."
   ]
  },
  {
   "cell_type": "markdown",
   "id": "79f88752-7024-42d1-a1f8-656c853efc8c",
   "metadata": {},
   "source": [
    "### Explanation"
   ]
  },
  {
   "cell_type": "markdown",
   "id": "4bb4cb30-0f18-4de8-b3c9-36052cf8154e",
   "metadata": {},
   "source": [
    "From the Malletts Creek Gage Heights data, I wanted to explore how the gage height changes in relation to creek discharge. Since creek discharge is the amount of water movidng down a stream or river, I was curious to see if it had any affect on gage height. I figured moving water could somehow relate to the height of the creek.\n",
    "\n",
    "To determine this relationship, I first had to make some changes to the Malletts Creek's discharge data table. I needed to merge these tables, but some changes were required before. Similar to the gage height data, I changed the 'Date Time' column to a datetime type, and I created a 'Month' and 'Year' for easier manipulation. I did this so the data would be easier to merge with the gage height data. I filtered out the poorer quality data because I wanted to ensure the data was useful, accurate information. I did this by filtering out the records with qualification codes 'P' or 'A:e'.\n",
    "\n",
    "To quickly view the data before comparing it to gage height, I made a histogram and scatter plot to see general distributions of the data. I logged the y-scale of the histogram so it was readable, and it showed that most of the data consisted of records of discharge in the 0-250 cubic feet range. Besides this range, there is a good portion of data that lied in the 250-500 and 500-750 range. There was an outlier, but this seemed realistic as there was an outlier in the gage heights data too. The scatter plot showed that most of the data consisted of discharge around 10 cubic feet. This seemed realistic since the data was divided in 15 minute increments. \n",
    "\n",
    "Next, I created a line plot of both the average discharge per month and per year. These visualizations differed a bit from the gage height data, but I saw the same spike in the third month, March. This would match the previous exploration's seasonality. This is the start of sping when the ice and snow start to melt and there is periodic rain. Therefore, I felt that the relationship between gage height and discharge must be related. \n",
    "\n",
    "Now, I merged the gage height and the discharge data frames toegther to finish the data exploration. The tables had similar column values, so I created an inner merge to drop the records that were missing a discharge or gage height value. With the discharges and gage heights together, I grouped and aggregated the the get the monthly averages for gage height and discharge. I put these values onto a scatter plot and saw a somewhat positive trend. The scatter plot only had 12 points, so I also created a scatter plot to include all records in the merged data frame. This showed a strong poisitive trend. Therefore, it is plausibe that as discharge increases, gage height increases. In other words, the greater the volume of water moving down the creek, the larger/higher the gage height will be at Malletts Creek."
   ]
  }
 ],
 "metadata": {
  "kernelspec": {
   "display_name": "Python 3 [3.10]",
   "language": "python",
   "name": "python3"
  },
  "language_info": {
   "codemirror_mode": {
    "name": "ipython",
    "version": 3
   },
   "file_extension": ".py",
   "mimetype": "text/x-python",
   "name": "python",
   "nbconvert_exporter": "python",
   "pygments_lexer": "ipython3",
   "version": "3.10.2"
  }
 },
 "nbformat": 4,
 "nbformat_minor": 5
}
