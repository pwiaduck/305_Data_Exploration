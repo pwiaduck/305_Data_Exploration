{
 "cells": [
  {
   "cell_type": "markdown",
   "id": "ce006d30",
   "metadata": {},
   "source": [
    "# Data Exploration Assignment Part 1 - NOAA Ann Arbor Data"
   ]
  },
  {
   "cell_type": "code",
   "execution_count": 1,
   "id": "745f7174",
   "metadata": {},
   "outputs": [],
   "source": [
    "# Load libraries\n",
    "import pandas as pd\n",
    "import matplotlib.pyplot as plt"
   ]
  },
  {
   "cell_type": "code",
   "execution_count": 2,
   "id": "d6b30873",
   "metadata": {},
   "outputs": [
    {
     "data": {
      "text/html": [
       "<div>\n",
       "<style scoped>\n",
       "    .dataframe tbody tr th:only-of-type {\n",
       "        vertical-align: middle;\n",
       "    }\n",
       "\n",
       "    .dataframe tbody tr th {\n",
       "        vertical-align: top;\n",
       "    }\n",
       "\n",
       "    .dataframe thead th {\n",
       "        text-align: right;\n",
       "    }\n",
       "</style>\n",
       "<table border=\"1\" class=\"dataframe\">\n",
       "  <thead>\n",
       "    <tr style=\"text-align: right;\">\n",
       "      <th></th>\n",
       "      <th>STATION</th>\n",
       "      <th>Day</th>\n",
       "      <th>Hour</th>\n",
       "      <th>HourlyPrecipitation</th>\n",
       "      <th>Avg Dry Bulb Temp</th>\n",
       "      <th>Avg Wet Bulb Temp</th>\n",
       "      <th>Avg Relative Humidity</th>\n",
       "    </tr>\n",
       "  </thead>\n",
       "  <tbody>\n",
       "    <tr>\n",
       "      <th>0</th>\n",
       "      <td>72537494889</td>\n",
       "      <td>2014-01-01</td>\n",
       "      <td>0</td>\n",
       "      <td>0.0</td>\n",
       "      <td>15.500000</td>\n",
       "      <td>14.000000</td>\n",
       "      <td>81.500000</td>\n",
       "    </tr>\n",
       "    <tr>\n",
       "      <th>1</th>\n",
       "      <td>72537494889</td>\n",
       "      <td>2014-01-01</td>\n",
       "      <td>1</td>\n",
       "      <td>0.0</td>\n",
       "      <td>16.000000</td>\n",
       "      <td>15.000000</td>\n",
       "      <td>80.000000</td>\n",
       "    </tr>\n",
       "    <tr>\n",
       "      <th>2</th>\n",
       "      <td>72537494889</td>\n",
       "      <td>2014-01-01</td>\n",
       "      <td>2</td>\n",
       "      <td>0.0</td>\n",
       "      <td>16.000000</td>\n",
       "      <td>15.000000</td>\n",
       "      <td>80.000000</td>\n",
       "    </tr>\n",
       "    <tr>\n",
       "      <th>3</th>\n",
       "      <td>72537494889</td>\n",
       "      <td>2014-01-01</td>\n",
       "      <td>3</td>\n",
       "      <td>0.0</td>\n",
       "      <td>16.000000</td>\n",
       "      <td>14.500000</td>\n",
       "      <td>79.500000</td>\n",
       "    </tr>\n",
       "    <tr>\n",
       "      <th>4</th>\n",
       "      <td>72537494889</td>\n",
       "      <td>2014-01-01</td>\n",
       "      <td>4</td>\n",
       "      <td>0.0</td>\n",
       "      <td>14.666667</td>\n",
       "      <td>13.333333</td>\n",
       "      <td>78.333333</td>\n",
       "    </tr>\n",
       "    <tr>\n",
       "      <th>...</th>\n",
       "      <td>...</td>\n",
       "      <td>...</td>\n",
       "      <td>...</td>\n",
       "      <td>...</td>\n",
       "      <td>...</td>\n",
       "      <td>...</td>\n",
       "      <td>...</td>\n",
       "    </tr>\n",
       "    <tr>\n",
       "      <th>69987</th>\n",
       "      <td>72537494889</td>\n",
       "      <td>2021-12-31</td>\n",
       "      <td>19</td>\n",
       "      <td>0.0</td>\n",
       "      <td>41.000000</td>\n",
       "      <td>39.000000</td>\n",
       "      <td>86.000000</td>\n",
       "    </tr>\n",
       "    <tr>\n",
       "      <th>69988</th>\n",
       "      <td>72537494889</td>\n",
       "      <td>2021-12-31</td>\n",
       "      <td>20</td>\n",
       "      <td>0.0</td>\n",
       "      <td>41.000000</td>\n",
       "      <td>39.000000</td>\n",
       "      <td>86.000000</td>\n",
       "    </tr>\n",
       "    <tr>\n",
       "      <th>69989</th>\n",
       "      <td>72537494889</td>\n",
       "      <td>2021-12-31</td>\n",
       "      <td>21</td>\n",
       "      <td>0.0</td>\n",
       "      <td>41.000000</td>\n",
       "      <td>39.000000</td>\n",
       "      <td>86.000000</td>\n",
       "    </tr>\n",
       "    <tr>\n",
       "      <th>69990</th>\n",
       "      <td>72537494889</td>\n",
       "      <td>2021-12-31</td>\n",
       "      <td>22</td>\n",
       "      <td>0.0</td>\n",
       "      <td>42.000000</td>\n",
       "      <td>40.000000</td>\n",
       "      <td>85.000000</td>\n",
       "    </tr>\n",
       "    <tr>\n",
       "      <th>69991</th>\n",
       "      <td>72537494889</td>\n",
       "      <td>2021-12-31</td>\n",
       "      <td>23</td>\n",
       "      <td>0.0</td>\n",
       "      <td>42.000000</td>\n",
       "      <td>40.000000</td>\n",
       "      <td>82.000000</td>\n",
       "    </tr>\n",
       "  </tbody>\n",
       "</table>\n",
       "<p>69992 rows × 7 columns</p>\n",
       "</div>"
      ],
      "text/plain": [
       "           STATION         Day  Hour  HourlyPrecipitation  Avg Dry Bulb Temp  \\\n",
       "0      72537494889  2014-01-01     0                  0.0          15.500000   \n",
       "1      72537494889  2014-01-01     1                  0.0          16.000000   \n",
       "2      72537494889  2014-01-01     2                  0.0          16.000000   \n",
       "3      72537494889  2014-01-01     3                  0.0          16.000000   \n",
       "4      72537494889  2014-01-01     4                  0.0          14.666667   \n",
       "...            ...         ...   ...                  ...                ...   \n",
       "69987  72537494889  2021-12-31    19                  0.0          41.000000   \n",
       "69988  72537494889  2021-12-31    20                  0.0          41.000000   \n",
       "69989  72537494889  2021-12-31    21                  0.0          41.000000   \n",
       "69990  72537494889  2021-12-31    22                  0.0          42.000000   \n",
       "69991  72537494889  2021-12-31    23                  0.0          42.000000   \n",
       "\n",
       "       Avg Wet Bulb Temp  Avg Relative Humidity  \n",
       "0              14.000000              81.500000  \n",
       "1              15.000000              80.000000  \n",
       "2              15.000000              80.000000  \n",
       "3              14.500000              79.500000  \n",
       "4              13.333333              78.333333  \n",
       "...                  ...                    ...  \n",
       "69987          39.000000              86.000000  \n",
       "69988          39.000000              86.000000  \n",
       "69989          39.000000              86.000000  \n",
       "69990          40.000000              85.000000  \n",
       "69991          40.000000              82.000000  \n",
       "\n",
       "[69992 rows x 7 columns]"
      ]
     },
     "execution_count": 2,
     "metadata": {},
     "output_type": "execute_result"
    }
   ],
   "source": [
    "# Directly import the Ann Arbor rain data csv from the Google Drive data inventory\n",
    "url = 'https://drive.google.com/file/d/17aWCaFWyqVfZ5IXGgNNVA2eS_YtcYoHU/view?usp=sharing'\n",
    "url_download ='https://drive.google.com/uc?export=download&id=' + url.split('/')[-2]\n",
    "data = pd.read_csv(url_download)\n",
    "data"
   ]
  },
  {
   "cell_type": "markdown",
   "id": "bae2e945-74d9-4381-abfc-a37fc78eb166",
   "metadata": {},
   "source": [
    "## 1. Explore the distributions of Hourly Precipitation and Average Dry Bulb Temperature. Describe the mean, standard deviation, and distribution (with either a histogram or density plot). Describe what you find.\n",
    "\n"
   ]
  },
  {
   "cell_type": "code",
   "execution_count": 3,
   "id": "6cb766b4-3015-4495-9a07-d851c9d96c3b",
   "metadata": {},
   "outputs": [
    {
     "data": {
      "text/html": [
       "<div>\n",
       "<style scoped>\n",
       "    .dataframe tbody tr th:only-of-type {\n",
       "        vertical-align: middle;\n",
       "    }\n",
       "\n",
       "    .dataframe tbody tr th {\n",
       "        vertical-align: top;\n",
       "    }\n",
       "\n",
       "    .dataframe thead th {\n",
       "        text-align: right;\n",
       "    }\n",
       "</style>\n",
       "<table border=\"1\" class=\"dataframe\">\n",
       "  <thead>\n",
       "    <tr style=\"text-align: right;\">\n",
       "      <th></th>\n",
       "      <th>HourlyPrecipitation</th>\n",
       "      <th>Avg Dry Bulb Temp</th>\n",
       "    </tr>\n",
       "  </thead>\n",
       "  <tbody>\n",
       "    <tr>\n",
       "      <th>count</th>\n",
       "      <td>68695.000000</td>\n",
       "      <td>69367.000000</td>\n",
       "    </tr>\n",
       "    <tr>\n",
       "      <th>mean</th>\n",
       "      <td>0.003259</td>\n",
       "      <td>48.852083</td>\n",
       "    </tr>\n",
       "    <tr>\n",
       "      <th>std</th>\n",
       "      <td>0.025302</td>\n",
       "      <td>20.340282</td>\n",
       "    </tr>\n",
       "    <tr>\n",
       "      <th>min</th>\n",
       "      <td>0.000000</td>\n",
       "      <td>-26.000000</td>\n",
       "    </tr>\n",
       "    <tr>\n",
       "      <th>25%</th>\n",
       "      <td>0.000000</td>\n",
       "      <td>33.000000</td>\n",
       "    </tr>\n",
       "    <tr>\n",
       "      <th>50%</th>\n",
       "      <td>0.000000</td>\n",
       "      <td>49.000000</td>\n",
       "    </tr>\n",
       "    <tr>\n",
       "      <th>75%</th>\n",
       "      <td>0.000000</td>\n",
       "      <td>66.000000</td>\n",
       "    </tr>\n",
       "    <tr>\n",
       "      <th>max</th>\n",
       "      <td>1.350000</td>\n",
       "      <td>95.000000</td>\n",
       "    </tr>\n",
       "  </tbody>\n",
       "</table>\n",
       "</div>"
      ],
      "text/plain": [
       "       HourlyPrecipitation  Avg Dry Bulb Temp\n",
       "count         68695.000000       69367.000000\n",
       "mean              0.003259          48.852083\n",
       "std               0.025302          20.340282\n",
       "min               0.000000         -26.000000\n",
       "25%               0.000000          33.000000\n",
       "50%               0.000000          49.000000\n",
       "75%               0.000000          66.000000\n",
       "max               1.350000          95.000000"
      ]
     },
     "execution_count": 3,
     "metadata": {},
     "output_type": "execute_result"
    }
   ],
   "source": [
    "# Look over the general distributions to see what information we are expecting\n",
    "data[['HourlyPrecipitation', 'Avg Dry Bulb Temp']].describe()"
   ]
  },
  {
   "cell_type": "markdown",
   "id": "dfac2f61-3ac6-4f86-adaa-9f1becaa0c6b",
   "metadata": {},
   "source": [
    "To view the distributions of the data, we will plot the data on histograms."
   ]
  },
  {
   "cell_type": "code",
   "execution_count": 4,
   "id": "cb7bb09a-e6ff-48f6-b72f-ae48cd8b1870",
   "metadata": {},
   "outputs": [
    {
     "data": {
      "image/png": "[encoded data removed]",
      "text/plain": [
       "<Figure size 432x288 with 1 Axes>"
      ]
     },
     "metadata": {
      "needs_background": "light"
     },
     "output_type": "display_data"
    }
   ],
   "source": [
    "# Plot the hourly precipitation distrubutions on a histogram\n",
    "precipitation = data['HourlyPrecipitation']\n",
    "\n",
    "# Log the histogram's scale to have a better view of the hourly precipitation's distributions\n",
    "plt.hist(precipitation, bins = 15, log=True)\n",
    "\n",
    "# Name axes and title to describe what the histogram represents\n",
    "plt.title('Distributions of Hourly Precipitation')\n",
    "plt.xlabel('Precipitation (inches)')\n",
    "plt.ylabel('log(Count)')\n",
    "\n",
    "plt.show()"
   ]
  },
  {
   "cell_type": "markdown",
   "id": "37d05045-d46d-48d0-be21-04290f11fee8",
   "metadata": {},
   "source": [
    "The histogram shows that a majority of the data has an hourly precipitation of 0 inches. The logged y-scale makes the distributions better to visualize. The logged count means that the precipitation occured a logged number of times. For example, the data has around 10^5 (100,000) records of it not raining. Overall, the mean and standard deviation are close to zero because of the strong peak at 0. This means that most of the data is zero or close to zero, hence a small standard deviation from the average. This means that there is little distribution in the data. There are a few outliers which extend the skew too. The right skew means that the mean (average) is greater than the median. \n",
    "\n",
    "mean 0.003259 \n",
    "\n",
    "std 0.025302 "
   ]
  },
  {
   "cell_type": "code",
   "execution_count": 5,
   "id": "5b8d37bd-0fa0-419a-80fb-d3f0eaf58cc5",
   "metadata": {},
   "outputs": [
    {
     "data": {
      "image/png": "[encoded data removed]",
      "text/plain": [
       "<Figure size 432x288 with 1 Axes>"
      ]
     },
     "metadata": {
      "needs_background": "light"
     },
     "output_type": "display_data"
    }
   ],
   "source": [
    "# Plot the average dry bulb temperature distributions on a histogram \n",
    "dry_temp = data['Avg Dry Bulb Temp']\n",
    "\n",
    "# Log the histogram's scale to have a better view of the average dry bulb temperature's distributions\n",
    "plt.hist(dry_temp, bins = 15, log=True)\n",
    "\n",
    "# Name axes and title to describe what the histogram represents\n",
    "plt.title('Distributions of Average Dry Bulb Temperature')\n",
    "plt.xlabel('Air Temperature (Fahrenheit)')\n",
    "plt.ylabel('log(Count)')\n",
    "\n",
    "plt.show()"
   ]
  },
  {
   "cell_type": "markdown",
   "id": "208b11e2-b486-484d-a47a-068a94910061",
   "metadata": {},
   "source": [
    "The histogram shows that a majority of the data is around 30-40 degrees Farenheit. The logged y-scale makes the distributions better to visualize. The logged count means that the temperature occured a logged number of times. For example, the data has around 10^4 (10,000) records where the temperature was around 30 degrees Farenheit. Overall, the mean is around 50 degrees Farenheit because the center of the curve lies at 50 on the x-axis. The standard deviation is going to be larger than the hourly precipitation. It will fall somewhere around 20 because the data does not rapidly decline on either side of the center's curve. This mean there is a larger distruibution of the data. There only seems to be a few outliers with extreme negative temperatures. The histogram has a minor right skew, but is only a little asymmentrical.\n",
    "\n",
    "mean 48.852083\n",
    "\n",
    "std 20.340282"
   ]
  },
  {
   "cell_type": "markdown",
   "id": "6e4a5e0c-d36b-4f23-8791-46176278572b",
   "metadata": {},
   "source": [
    "Overall, I decided that a histogram would best show how the data is spread. For these histograms, each has the x-axis as the variable I am analyzing. This would be hourly precipitation in inches for the hourly precipitation data set and the air temperature in the average dry bulb temperature data set. The y-axes were both the amount of times that value appear in the data sets. I scaled both of the y-axes so the data was more visible. The values in the histogram are the temperatures and precipitation values in both data sets, therefore there are many rows of data accounted for. The data seems to fairly represent the weather in Ann Arbor with not too much rain and a more moderate climate and distinguishable seasons. "
   ]
  },
  {
   "cell_type": "markdown",
   "id": "8a7626c9-f312-458d-896d-6f23638ffa93",
   "metadata": {},
   "source": [
    "## 2. Explore how Hourly Precipitation and Average Dry Bulb Temperature vary across the months of a year. Produce 2 figures summarizing these patterns. Describe what you find.\n"
   ]
  },
  {
   "cell_type": "code",
   "execution_count": 6,
   "id": "1fc9ecac-397d-4deb-898b-07a9d74b5386",
   "metadata": {},
   "outputs": [
    {
     "data": {
      "text/html": [
       "<div>\n",
       "<style scoped>\n",
       "    .dataframe tbody tr th:only-of-type {\n",
       "        vertical-align: middle;\n",
       "    }\n",
       "\n",
       "    .dataframe tbody tr th {\n",
       "        vertical-align: top;\n",
       "    }\n",
       "\n",
       "    .dataframe thead th {\n",
       "        text-align: right;\n",
       "    }\n",
       "</style>\n",
       "<table border=\"1\" class=\"dataframe\">\n",
       "  <thead>\n",
       "    <tr style=\"text-align: right;\">\n",
       "      <th></th>\n",
       "      <th>Day</th>\n",
       "      <th>HourlyPrecipitation</th>\n",
       "      <th>Avg Dry Bulb Temp</th>\n",
       "    </tr>\n",
       "  </thead>\n",
       "  <tbody>\n",
       "    <tr>\n",
       "      <th>0</th>\n",
       "      <td>2014-01-01</td>\n",
       "      <td>0.00</td>\n",
       "      <td>15.500000</td>\n",
       "    </tr>\n",
       "    <tr>\n",
       "      <th>23</th>\n",
       "      <td>2014-01-01</td>\n",
       "      <td>0.01</td>\n",
       "      <td>14.833333</td>\n",
       "    </tr>\n",
       "    <tr>\n",
       "      <th>22</th>\n",
       "      <td>2014-01-01</td>\n",
       "      <td>0.00</td>\n",
       "      <td>14.000000</td>\n",
       "    </tr>\n",
       "    <tr>\n",
       "      <th>21</th>\n",
       "      <td>2014-01-01</td>\n",
       "      <td>0.00</td>\n",
       "      <td>14.000000</td>\n",
       "    </tr>\n",
       "    <tr>\n",
       "      <th>20</th>\n",
       "      <td>2014-01-01</td>\n",
       "      <td>0.00</td>\n",
       "      <td>14.000000</td>\n",
       "    </tr>\n",
       "    <tr>\n",
       "      <th>...</th>\n",
       "      <td>...</td>\n",
       "      <td>...</td>\n",
       "      <td>...</td>\n",
       "    </tr>\n",
       "    <tr>\n",
       "      <th>69969</th>\n",
       "      <td>2021-12-31</td>\n",
       "      <td>0.00</td>\n",
       "      <td>34.000000</td>\n",
       "    </tr>\n",
       "    <tr>\n",
       "      <th>69968</th>\n",
       "      <td>2021-12-31</td>\n",
       "      <td>0.00</td>\n",
       "      <td>34.000000</td>\n",
       "    </tr>\n",
       "    <tr>\n",
       "      <th>69990</th>\n",
       "      <td>2021-12-31</td>\n",
       "      <td>0.00</td>\n",
       "      <td>42.000000</td>\n",
       "    </tr>\n",
       "    <tr>\n",
       "      <th>69978</th>\n",
       "      <td>2021-12-31</td>\n",
       "      <td>0.00</td>\n",
       "      <td>39.000000</td>\n",
       "    </tr>\n",
       "    <tr>\n",
       "      <th>69991</th>\n",
       "      <td>2021-12-31</td>\n",
       "      <td>0.00</td>\n",
       "      <td>42.000000</td>\n",
       "    </tr>\n",
       "  </tbody>\n",
       "</table>\n",
       "<p>69992 rows × 3 columns</p>\n",
       "</div>"
      ],
      "text/plain": [
       "              Day  HourlyPrecipitation  Avg Dry Bulb Temp\n",
       "0      2014-01-01                 0.00          15.500000\n",
       "23     2014-01-01                 0.01          14.833333\n",
       "22     2014-01-01                 0.00          14.000000\n",
       "21     2014-01-01                 0.00          14.000000\n",
       "20     2014-01-01                 0.00          14.000000\n",
       "...           ...                  ...                ...\n",
       "69969  2021-12-31                 0.00          34.000000\n",
       "69968  2021-12-31                 0.00          34.000000\n",
       "69990  2021-12-31                 0.00          42.000000\n",
       "69978  2021-12-31                 0.00          39.000000\n",
       "69991  2021-12-31                 0.00          42.000000\n",
       "\n",
       "[69992 rows x 3 columns]"
      ]
     },
     "execution_count": 6,
     "metadata": {},
     "output_type": "execute_result"
    }
   ],
   "source": [
    "# View each day's hourly precipitation and average dry bulb temp\n",
    "data[['Day', 'HourlyPrecipitation', 'Avg Dry Bulb Temp']].sort_values(by = 'Day', ascending = True)"
   ]
  },
  {
   "cell_type": "code",
   "execution_count": 7,
   "id": "d1d8a2f6-cb61-4505-8312-d6f58309cfb8",
   "metadata": {},
   "outputs": [],
   "source": [
    "# Change Day column from object to datetime object\n",
    "data['Day'] = pd.to_datetime(data['Day'])\n",
    "\n",
    "# Create datetime Month and Year columns\n",
    "data['Month'] = data['Day'].dt.month\n",
    "data['Year'] = data['Day'].dt.year"
   ]
  },
  {
   "cell_type": "code",
   "execution_count": 8,
   "id": "9a954074-2a41-4393-8f47-ad3f25228ea1",
   "metadata": {},
   "outputs": [
    {
     "data": {
      "text/plain": [
       "Month\n",
       "1     0.001927\n",
       "2     0.002295\n",
       "3     0.003196\n",
       "4     0.004244\n",
       "5     0.004524\n",
       "6     0.003602\n",
       "7     0.003813\n",
       "8     0.004246\n",
       "9     0.003102\n",
       "10    0.003506\n",
       "11    0.002532\n",
       "12    0.002114\n",
       "Name: HourlyPrecipitation, dtype: float64"
      ]
     },
     "execution_count": 8,
     "metadata": {},
     "output_type": "execute_result"
    }
   ],
   "source": [
    "# Group the data by month and hourly precipitation\n",
    "# Find the mean of hourly precipitation for each month across all years\n",
    "monthly_precip = data.groupby(['Month'])['HourlyPrecipitation'].mean()\n",
    "monthly_precip"
   ]
  },
  {
   "cell_type": "code",
   "execution_count": 9,
   "id": "e602049b-920b-4853-ae2d-2d9a4d62b4f6",
   "metadata": {},
   "outputs": [
    {
     "data": {
      "image/png": "[encoded data removed]",
      "text/plain": [
       "<Figure size 432x288 with 1 Axes>"
      ]
     },
     "metadata": {
      "needs_background": "light"
     },
     "output_type": "display_data"
    }
   ],
   "source": [
    "# Plot hourly precipitation averages for each month across all the years in the data set\n",
    "\n",
    "# Retrieve the months\n",
    "months = data['Month'].unique()\n",
    "\n",
    "# Plot months as the x-axis, and the data line as the groupby product's averages\n",
    "plt.plot(months, monthly_precip, label = 'HourlyPrecipitation', color = 'b', marker = 'o')\n",
    "\n",
    "# Name the plot and add axes labels to describe the findings \n",
    "plt.title('Hourly Precipitation Variation Across Months of a Year')\n",
    "plt.xlabel('Months')\n",
    "plt.ylabel('Precipitation per Hour(inches)')\n",
    "\n",
    "plt.show()"
   ]
  },
  {
   "cell_type": "markdown",
   "id": "3a6a8ee0-0c49-4507-b5ad-085d4ba0c947",
   "metadata": {},
   "source": [
    "The line plot shows that the greatest hourly preipitation occurs during the spring time and is lowest during the winter months. This would infer that spring has the weather with the most rain, where it nearly never rains in the winter. There is another peak in the late summer months too. This would mean that it rains the most in spring and late summer. The precipitation per hour are relatively lower rates and the trend of the line plot is not consistently high. There are only a few spikes, and a gradual rise during the winter to spring transition. This means that Ann Arbor experiences rain, but not typically in extreme rates."
   ]
  },
  {
   "cell_type": "code",
   "execution_count": 10,
   "id": "02cc8d15-89e6-4159-b608-8354d62349fc",
   "metadata": {},
   "outputs": [],
   "source": [
    "# # Group the data by month and dry bulb temperature\n",
    "# Find the mean of dry bulb temperature for each month across all years\n",
    "monthly_temp = data.groupby(['Month'])['Avg Dry Bulb Temp'].mean()"
   ]
  },
  {
   "cell_type": "code",
   "execution_count": 11,
   "id": "c7b98717-6345-4784-8cee-f84b6a646de6",
   "metadata": {},
   "outputs": [
    {
     "data": {
      "image/png": "[encoded data removed]",
      "text/plain": [
       "<Figure size 432x288 with 1 Axes>"
      ]
     },
     "metadata": {
      "needs_background": "light"
     },
     "output_type": "display_data"
    }
   ],
   "source": [
    "# Plot dry bulb temperature averages for each month across all the years in the data set\n",
    "\n",
    "# Retrieve the months\n",
    "months = data['Month'].unique()\n",
    "\n",
    "# Plot months as the x-axis, and the data line as the groupby product's averages\n",
    "plt.plot(months, monthly_temp, label = 'Average Dry Bulb Temp', color = 'r', marker = 'o')\n",
    "\n",
    "# Name the plot and add axes labels to describe the findings \n",
    "plt.title('Average Dry Bulb Temperature Variation Across Months of a Year')\n",
    "plt.xlabel('Months')\n",
    "plt.ylabel('Air Temperature (Fahrenheit)')\n",
    "\n",
    "plt.show()"
   ]
  },
  {
   "cell_type": "markdown",
   "id": "0fb650ef-c2c5-4370-8a91-bd3f35145df5",
   "metadata": {},
   "source": [
    "The line plot shows a clear increase of air temperature up until the summer time when it is typically the most warm. Then after the summer, it decreases. This means that Ann Arbor's highest temperatures occur during the summer, typically in July or August. The coldest termperatures are in January and February. The termperatures tend to steadily increase and decrease before and after summer. Therefore, it is clear Ann Arbor has a climate that aligns with seasons. A majority of the year the temperatures are equivalent to a moderate climate where it is usually neither hot or cold."
   ]
  },
  {
   "cell_type": "markdown",
   "id": "dd3383bb-4950-4f78-a422-c6073c840c78",
   "metadata": {},
   "source": [
    "Overall, I decided that line plots would best show how the data is spread over time. The lineplots each have the x-axis as months since I am trying to analyze the data across time. The y-axes are the variables from the data sets. This would be hourly precipitation in inches for the hourly precipitation data set and the air temperature in the average dry bulb temperature data set. The y-axis of the hourly precipitation are very small values, therefore it supports the claim that it doesn't rain too much in Ann Arbor. The most it rains is in the spring which follows the seasonality Ann Arbor experiences weather wise. The average dry bulb temperature is constantly increaseing and decreasing at a steady rate. This is reasonable because Ann Arbor experiences seasons and does not have abnormal spikes in cimate typically. The line plots for both data sets are accurate to their repsective data distributions from the histograms above. "
   ]
  },
  {
   "cell_type": "markdown",
   "id": "1f95b14d-8139-4f49-b3c4-0b27dc4306a0",
   "metadata": {},
   "source": [
    "## 3. What is the most precipitation that the station registered across a 24-hour period and a 7-day (168-hour) period? When did these periods occur?\n",
    "Note: Treat NaN rainfall values as 0."
   ]
  },
  {
   "cell_type": "code",
   "execution_count": 12,
   "id": "980a7533-0c56-43dd-bafe-4ecb092114b4",
   "metadata": {},
   "outputs": [
    {
     "data": {
      "text/html": [
       "<div>\n",
       "<style scoped>\n",
       "    .dataframe tbody tr th:only-of-type {\n",
       "        vertical-align: middle;\n",
       "    }\n",
       "\n",
       "    .dataframe tbody tr th {\n",
       "        vertical-align: top;\n",
       "    }\n",
       "\n",
       "    .dataframe thead th {\n",
       "        text-align: right;\n",
       "    }\n",
       "</style>\n",
       "<table border=\"1\" class=\"dataframe\">\n",
       "  <thead>\n",
       "    <tr style=\"text-align: right;\">\n",
       "      <th></th>\n",
       "      <th>STATION</th>\n",
       "      <th>Day</th>\n",
       "      <th>Hour</th>\n",
       "      <th>HourlyPrecipitation</th>\n",
       "      <th>Avg Dry Bulb Temp</th>\n",
       "      <th>Avg Wet Bulb Temp</th>\n",
       "      <th>Avg Relative Humidity</th>\n",
       "      <th>Month</th>\n",
       "      <th>Year</th>\n",
       "    </tr>\n",
       "  </thead>\n",
       "  <tbody>\n",
       "    <tr>\n",
       "      <th>0</th>\n",
       "      <td>72537494889</td>\n",
       "      <td>2014-01-01</td>\n",
       "      <td>0</td>\n",
       "      <td>0.0</td>\n",
       "      <td>15.500000</td>\n",
       "      <td>14.000000</td>\n",
       "      <td>81.500000</td>\n",
       "      <td>1</td>\n",
       "      <td>2014</td>\n",
       "    </tr>\n",
       "    <tr>\n",
       "      <th>1</th>\n",
       "      <td>72537494889</td>\n",
       "      <td>2014-01-01</td>\n",
       "      <td>1</td>\n",
       "      <td>0.0</td>\n",
       "      <td>16.000000</td>\n",
       "      <td>15.000000</td>\n",
       "      <td>80.000000</td>\n",
       "      <td>1</td>\n",
       "      <td>2014</td>\n",
       "    </tr>\n",
       "    <tr>\n",
       "      <th>2</th>\n",
       "      <td>72537494889</td>\n",
       "      <td>2014-01-01</td>\n",
       "      <td>2</td>\n",
       "      <td>0.0</td>\n",
       "      <td>16.000000</td>\n",
       "      <td>15.000000</td>\n",
       "      <td>80.000000</td>\n",
       "      <td>1</td>\n",
       "      <td>2014</td>\n",
       "    </tr>\n",
       "    <tr>\n",
       "      <th>3</th>\n",
       "      <td>72537494889</td>\n",
       "      <td>2014-01-01</td>\n",
       "      <td>3</td>\n",
       "      <td>0.0</td>\n",
       "      <td>16.000000</td>\n",
       "      <td>14.500000</td>\n",
       "      <td>79.500000</td>\n",
       "      <td>1</td>\n",
       "      <td>2014</td>\n",
       "    </tr>\n",
       "    <tr>\n",
       "      <th>4</th>\n",
       "      <td>72537494889</td>\n",
       "      <td>2014-01-01</td>\n",
       "      <td>4</td>\n",
       "      <td>0.0</td>\n",
       "      <td>14.666667</td>\n",
       "      <td>13.333333</td>\n",
       "      <td>78.333333</td>\n",
       "      <td>1</td>\n",
       "      <td>2014</td>\n",
       "    </tr>\n",
       "  </tbody>\n",
       "</table>\n",
       "</div>"
      ],
      "text/plain": [
       "       STATION        Day  Hour  HourlyPrecipitation  Avg Dry Bulb Temp  \\\n",
       "0  72537494889 2014-01-01     0                  0.0          15.500000   \n",
       "1  72537494889 2014-01-01     1                  0.0          16.000000   \n",
       "2  72537494889 2014-01-01     2                  0.0          16.000000   \n",
       "3  72537494889 2014-01-01     3                  0.0          16.000000   \n",
       "4  72537494889 2014-01-01     4                  0.0          14.666667   \n",
       "\n",
       "   Avg Wet Bulb Temp  Avg Relative Humidity  Month  Year  \n",
       "0          14.000000              81.500000      1  2014  \n",
       "1          15.000000              80.000000      1  2014  \n",
       "2          15.000000              80.000000      1  2014  \n",
       "3          14.500000              79.500000      1  2014  \n",
       "4          13.333333              78.333333      1  2014  "
      ]
     },
     "execution_count": 12,
     "metadata": {},
     "output_type": "execute_result"
    }
   ],
   "source": [
    "# Fill the null hourly precipitation values as 0 \n",
    "data['HourlyPrecipitation'].fillna(0.0)\n",
    "\n",
    "# View data\n",
    "data.head()"
   ]
  },
  {
   "cell_type": "markdown",
   "id": "5837b2aa-dd21-4d6f-ae88-09622f520e62",
   "metadata": {},
   "source": [
    "Find the maximum hourly precipitation and the day it occurred for a 24 hour period."
   ]
  },
  {
   "cell_type": "code",
   "execution_count": 13,
   "id": "ec27c3e1-1b76-4774-a8a6-22c978a6a4a6",
   "metadata": {},
   "outputs": [],
   "source": [
    "# Make a column for to sum the hourly precipitation over a 24 hour period\n",
    "data['24_rolling'] = data['HourlyPrecipitation'].rolling(window = 24).sum()\n",
    "\n",
    "# Fill null values in the 24 hour rolling to 0\n",
    "data['24_rolling'] = data['24_rolling'].fillna(0.0)"
   ]
  },
  {
   "cell_type": "code",
   "execution_count": 14,
   "id": "c1cc6eae-b8fc-42fc-bfa4-69ca47a6b7a3",
   "metadata": {},
   "outputs": [
    {
     "data": {
      "text/plain": [
       "'The most precipitation during a 24-hour period is 3.3100000000000005 inches.'"
      ]
     },
     "execution_count": 14,
     "metadata": {},
     "output_type": "execute_result"
    }
   ],
   "source": [
    "# Find most precipitation for 24 hour period \n",
    "f\"The most precipitation during a 24-hour period is {data['24_rolling'].max()} inches.\""
   ]
  },
  {
   "cell_type": "code",
   "execution_count": 15,
   "id": "f0b0c896-05f6-4bf1-ae51-2172fd8921ab",
   "metadata": {},
   "outputs": [
    {
     "data": {
      "text/plain": [
       "'The most precipitation occured on 2020-08-29 00:00:00.'"
      ]
     },
     "execution_count": 15,
     "metadata": {},
     "output_type": "execute_result"
    }
   ],
   "source": [
    "# Find the day for the most amount of precipitation for 24 hour period \n",
    "max_24_date = data['24_rolling'].idxmax()\n",
    "f\"The most precipitation occured on {str(data.iloc[max_24_date]['Day'])}.\""
   ]
  },
  {
   "cell_type": "markdown",
   "id": "b9a17cf0-1834-4df4-98c0-586d14245072",
   "metadata": {},
   "source": [
    "Find the maximum hourly precipitation and the day it occured for a 168 hour period."
   ]
  },
  {
   "cell_type": "code",
   "execution_count": 16,
   "id": "d630c61a-7a4d-4fc0-b43d-38335c2bb285",
   "metadata": {},
   "outputs": [],
   "source": [
    "# Make a column for to sum the hourly precipitation over a 168 hour period\n",
    "data['168_rolling'] = data['HourlyPrecipitation'].rolling(168).sum()\n",
    "\n",
    "# Fill null values in the 168 hour rolling to 0 \n",
    "data['168_rolling'] = data['168_rolling'].fillna(0.0)"
   ]
  },
  {
   "cell_type": "code",
   "execution_count": 17,
   "id": "4fae3d01-8150-43fb-80b5-c19d9e120feb",
   "metadata": {},
   "outputs": [
    {
     "data": {
      "text/plain": [
       "'The most precipitation during a 168-hour period is 3.7199999999999998 inches.'"
      ]
     },
     "execution_count": 17,
     "metadata": {},
     "output_type": "execute_result"
    }
   ],
   "source": [
    "# Find most precipitation for 168 hour period \n",
    "f\"The most precipitation during a 168-hour period is {data['168_rolling'].max()} inches.\""
   ]
  },
  {
   "cell_type": "code",
   "execution_count": 18,
   "id": "2e9209fe-c37d-449b-9099-440c0f29dc3e",
   "metadata": {},
   "outputs": [
    {
     "data": {
      "text/plain": [
       "'The most precipitation occured on 2020-09-01 00:00:00.'"
      ]
     },
     "execution_count": 18,
     "metadata": {},
     "output_type": "execute_result"
    }
   ],
   "source": [
    "# Find the day for the most amount of precipitation for 168 hour period \n",
    "max_168_date = data['168_rolling'].idxmax()\n",
    "f\"The most precipitation occured on {str(data.iloc[max_168_date]['Day'])}.\""
   ]
  },
  {
   "cell_type": "markdown",
   "id": "bcb85aa1-6367-4c94-bf2a-e1148b03002c",
   "metadata": {},
   "source": [
    "To find the maximum amount of preipitation and their respective dates, I first created a rolling 24 hour and 186 hour column to record the total precipitation changes in those windows. The beginning and end of those columns had null values since the beginning and end windows had no prior or sequential data row to consider. Therefore, I filled those null values to zero since they experience essentially no changes in rain. For each column, I found the maximum precipitation and located the day by utilizing its row's index. Overall, the greatest amount of precipitation occured in the transition from summer to fall, August and September. These amounts of precipitation were around 3 inches for both window periods."
   ]
  },
  {
   "cell_type": "markdown",
   "id": "38cb8f76-c5b3-404b-9db7-78c7735ee334",
   "metadata": {},
   "source": [
    "## 4. Over the most recent 5 years in the data, how many times has Ann Arbor surpassed the Atlas 14 5-year rainfall estimate for inches of rain in a 6-hour span?\n",
    "\n",
    "Note: If the total rainfall surpasses the Atlas estimate twice in an overlapping\n",
    "window, treat that as two separate events. For instance, on a given day, if the total\n",
    "rain from 12am-6am surpassed the threshold and if the total rain from 1am-7am\n",
    "surpassed the threshold, count those as two separate instances."
   ]
  },
  {
   "cell_type": "markdown",
   "id": "c5310ead-43d1-47be-9653-01a3fe3b00da",
   "metadata": {
    "jp-MarkdownHeadingCollapsed": true,
    "tags": []
   },
   "source": [
    "- The Atlas 14 5-year rainfall estimate for inches of rain in a 6-hour span = 2.22 inches. https://docs.google.com/spreadsheets/d/113kcoYRa28pyfYPzCbPfmya2wN-UxFvpdvCsqFpt33U/edit#gid=890601421"
   ]
  },
  {
   "cell_type": "code",
   "execution_count": 19,
   "id": "b2f4f517-152f-4e9b-9a3d-f6c409df8e27",
   "metadata": {},
   "outputs": [
    {
     "data": {
      "text/html": [
       "<div>\n",
       "<style scoped>\n",
       "    .dataframe tbody tr th:only-of-type {\n",
       "        vertical-align: middle;\n",
       "    }\n",
       "\n",
       "    .dataframe tbody tr th {\n",
       "        vertical-align: top;\n",
       "    }\n",
       "\n",
       "    .dataframe thead th {\n",
       "        text-align: right;\n",
       "    }\n",
       "</style>\n",
       "<table border=\"1\" class=\"dataframe\">\n",
       "  <thead>\n",
       "    <tr style=\"text-align: right;\">\n",
       "      <th></th>\n",
       "      <th>STATION</th>\n",
       "      <th>Day</th>\n",
       "      <th>Hour</th>\n",
       "      <th>HourlyPrecipitation</th>\n",
       "      <th>Avg Dry Bulb Temp</th>\n",
       "      <th>Avg Wet Bulb Temp</th>\n",
       "      <th>Avg Relative Humidity</th>\n",
       "      <th>Month</th>\n",
       "      <th>Year</th>\n",
       "      <th>24_rolling</th>\n",
       "      <th>168_rolling</th>\n",
       "    </tr>\n",
       "  </thead>\n",
       "  <tbody>\n",
       "    <tr>\n",
       "      <th>0</th>\n",
       "      <td>72537494889</td>\n",
       "      <td>2014-01-01</td>\n",
       "      <td>0</td>\n",
       "      <td>0.0</td>\n",
       "      <td>15.500000</td>\n",
       "      <td>14.000000</td>\n",
       "      <td>81.500000</td>\n",
       "      <td>1</td>\n",
       "      <td>2014</td>\n",
       "      <td>0.0</td>\n",
       "      <td>0.0</td>\n",
       "    </tr>\n",
       "    <tr>\n",
       "      <th>1</th>\n",
       "      <td>72537494889</td>\n",
       "      <td>2014-01-01</td>\n",
       "      <td>1</td>\n",
       "      <td>0.0</td>\n",
       "      <td>16.000000</td>\n",
       "      <td>15.000000</td>\n",
       "      <td>80.000000</td>\n",
       "      <td>1</td>\n",
       "      <td>2014</td>\n",
       "      <td>0.0</td>\n",
       "      <td>0.0</td>\n",
       "    </tr>\n",
       "    <tr>\n",
       "      <th>2</th>\n",
       "      <td>72537494889</td>\n",
       "      <td>2014-01-01</td>\n",
       "      <td>2</td>\n",
       "      <td>0.0</td>\n",
       "      <td>16.000000</td>\n",
       "      <td>15.000000</td>\n",
       "      <td>80.000000</td>\n",
       "      <td>1</td>\n",
       "      <td>2014</td>\n",
       "      <td>0.0</td>\n",
       "      <td>0.0</td>\n",
       "    </tr>\n",
       "    <tr>\n",
       "      <th>3</th>\n",
       "      <td>72537494889</td>\n",
       "      <td>2014-01-01</td>\n",
       "      <td>3</td>\n",
       "      <td>0.0</td>\n",
       "      <td>16.000000</td>\n",
       "      <td>14.500000</td>\n",
       "      <td>79.500000</td>\n",
       "      <td>1</td>\n",
       "      <td>2014</td>\n",
       "      <td>0.0</td>\n",
       "      <td>0.0</td>\n",
       "    </tr>\n",
       "    <tr>\n",
       "      <th>4</th>\n",
       "      <td>72537494889</td>\n",
       "      <td>2014-01-01</td>\n",
       "      <td>4</td>\n",
       "      <td>0.0</td>\n",
       "      <td>14.666667</td>\n",
       "      <td>13.333333</td>\n",
       "      <td>78.333333</td>\n",
       "      <td>1</td>\n",
       "      <td>2014</td>\n",
       "      <td>0.0</td>\n",
       "      <td>0.0</td>\n",
       "    </tr>\n",
       "  </tbody>\n",
       "</table>\n",
       "</div>"
      ],
      "text/plain": [
       "       STATION        Day  Hour  HourlyPrecipitation  Avg Dry Bulb Temp  \\\n",
       "0  72537494889 2014-01-01     0                  0.0          15.500000   \n",
       "1  72537494889 2014-01-01     1                  0.0          16.000000   \n",
       "2  72537494889 2014-01-01     2                  0.0          16.000000   \n",
       "3  72537494889 2014-01-01     3                  0.0          16.000000   \n",
       "4  72537494889 2014-01-01     4                  0.0          14.666667   \n",
       "\n",
       "   Avg Wet Bulb Temp  Avg Relative Humidity  Month  Year  24_rolling  \\\n",
       "0          14.000000              81.500000      1  2014         0.0   \n",
       "1          15.000000              80.000000      1  2014         0.0   \n",
       "2          15.000000              80.000000      1  2014         0.0   \n",
       "3          14.500000              79.500000      1  2014         0.0   \n",
       "4          13.333333              78.333333      1  2014         0.0   \n",
       "\n",
       "   168_rolling  \n",
       "0          0.0  \n",
       "1          0.0  \n",
       "2          0.0  \n",
       "3          0.0  \n",
       "4          0.0  "
      ]
     },
     "execution_count": 19,
     "metadata": {},
     "output_type": "execute_result"
    }
   ],
   "source": [
    "# View data\n",
    "data.head()"
   ]
  },
  {
   "cell_type": "code",
   "execution_count": 20,
   "id": "66be2477-0e6a-4a18-b291-f320f051b14e",
   "metadata": {},
   "outputs": [],
   "source": [
    "# Retrieve the last 5 years from the data set\n",
    "years = data['Year'].sort_values().unique()\n",
    "past_5_years = years[-6:-1]\n",
    "\n",
    "# Assign 2016 as the start of the five year span\n",
    "start_year = past_5_years[0]"
   ]
  },
  {
   "cell_type": "code",
   "execution_count": 21,
   "id": "b2a02174-64ff-424d-85ca-24c60dbdf1ae",
   "metadata": {},
   "outputs": [
    {
     "data": {
      "text/plain": [
       "'Over the most recent 5 years in the data, Ann Arbor surpassed the Atlas 14 5-year rainfall estimate for inches of rain in a 6-hour span 3 times.'"
      ]
     },
     "execution_count": 21,
     "metadata": {},
     "output_type": "execute_result"
    }
   ],
   "source": [
    "# Make a column for to sum the hourly precipitation over a 6 hour period\n",
    "data['6_rolling'] = data['HourlyPrecipitation'].rolling(window = 6).sum()\n",
    "data['6_rolling'] = data['6_rolling'].fillna(0.0)\n",
    "\n",
    "# Filter for years 2016-2023 and a 6 hour period of rain greater than the Atlas 14 estimate\n",
    "mask = (data['Year'] >= start_year) & (data['6_rolling'] > 2.22)\n",
    "data[mask]\n",
    "\n",
    "# Retrieve how many occurences surpassed the Atlas 14 estimate 6 hours\n",
    "f\"Over the most recent 5 years in the data, Ann Arbor surpassed the Atlas 14 \\\n",
    "5-year rainfall estimate for inches of rain in a 6-hour span {len(data[mask])} times.\""
   ]
  },
  {
   "cell_type": "markdown",
   "id": "86570701-b7d2-4723-9e81-87ba41b6161f",
   "metadata": {},
   "source": [
    "To see how many times Ann Arbor surpassed the Atlas 14 5-year rainfall estimate for a 6-hour span, I looked at the data for the Atlas 14 estimates. This value was 2.22 inches. Then, I retrieved the last 5 years from the data set, and created a new column for a 6 hour window using the rolling function. I calculated the sums for this column then filtered the data. The conditions I used to filter were the year and the 6 hour column. I made sure that the year was on or after 2016. This was 2016 since the most recent year in the data set was 2021. Then I filtered for the 6 hour column to be greater than 2.22 inches. After filtering, I found these conditions happened 3 times. "
   ]
  },
  {
   "cell_type": "code",
   "execution_count": null,
   "id": "d3344b41-fbee-41bf-850e-ae51ff5d11df",
   "metadata": {},
   "outputs": [],
   "source": []
  }
 ],
 "metadata": {
  "kernelspec": {
   "display_name": "Python 3 [3.10]",
   "language": "python",
   "name": "python3"
  },
  "language_info": {
   "codemirror_mode": {
    "name": "ipython",
    "version": 3
   },
   "file_extension": ".py",
   "mimetype": "text/x-python",
   "name": "python",
   "nbconvert_exporter": "python",
   "pygments_lexer": "ipython3",
   "version": "3.10.2"
  }
 },
 "nbformat": 4,
 "nbformat_minor": 5
}
